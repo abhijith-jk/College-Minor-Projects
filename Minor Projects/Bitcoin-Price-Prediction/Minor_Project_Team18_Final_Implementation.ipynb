{
  "nbformat": 4,
  "nbformat_minor": 0,
  "metadata": {
    "colab": {
      "name": "Minor Project Team18 Final Implementation.ipynb",
      "provenance": [],
      "collapsed_sections": []
    },
    "kernelspec": {
      "name": "python3",
      "display_name": "Python 3"
    },
    "language_info": {
      "name": "python"
    }
  },
  "cells": [
    {
      "cell_type": "markdown",
      "metadata": {
        "id": "2NI14MlN7xss"
      },
      "source": [
        "#BITCOIN PRICE PREDICTOR"
      ]
    },
    {
      "cell_type": "markdown",
      "metadata": {
        "id": "lKKREvaYOo3k"
      },
      "source": [
        "###Project Members-\n",
        "1. Abhijeet Kumar (ENG19CS0009)\n",
        "2. Abhijith JK    (ENG19CS0010)\n",
        "3. Amisha Asrani  (ENG19CS0029)\n",
        "4. Aryan Kumar    (ENG19CS0044)"
      ]
    },
    {
      "cell_type": "code",
      "metadata": {
        "id": "hts3a0TO8IEC"
      },
      "source": [
        "#importing necessary libraries\n",
        "import numpy as np\n",
        "from matplotlib import pyplot\n",
        "import pandas as pd\n",
        "from sklearn.preprocessing import MinMaxScaler\n",
        "import matplotlib.pyplot as plt\n",
        "import seaborn as sns\n",
        "from sklearn.model_selection import train_test_split"
      ],
      "execution_count": null,
      "outputs": []
    },
    {
      "cell_type": "markdown",
      "source": [
        "##DATA COLLECTION"
      ],
      "metadata": {
        "id": "OIQxXpBaZfPt"
      }
    },
    {
      "cell_type": "code",
      "metadata": {
        "id": "-AkQAK_M8REC"
      },
      "source": [
        "data = pd.read_csv('/content/BTC-USD (5).csv', date_parser = True)"
      ],
      "execution_count": null,
      "outputs": []
    },
    {
      "cell_type": "code",
      "metadata": {
        "id": "1HLzK3dX8RPx",
        "colab": {
          "base_uri": "https://localhost:8080/"
        },
        "outputId": "2eb32671-f38b-40c1-a3fe-ef6ca14c8837"
      },
      "source": [
        "print('Total number of days present in the dataset: ',data.shape[0])\n",
        "print('Total number of fields present in the dataset: ',data.shape[1])\n",
        "data.shape"
      ],
      "execution_count": null,
      "outputs": [
        {
          "output_type": "stream",
          "name": "stdout",
          "text": [
            "Total number of days present in the dataset:  366\n",
            "Total number of fields present in the dataset:  7\n"
          ]
        },
        {
          "output_type": "execute_result",
          "data": {
            "text/plain": [
              "(366, 7)"
            ]
          },
          "metadata": {},
          "execution_count": 4
        }
      ]
    },
    {
      "cell_type": "code",
      "metadata": {
        "id": "aQkGhgjT8RRg",
        "colab": {
          "base_uri": "https://localhost:8080/",
          "height": 205
        },
        "outputId": "102758b6-f5bb-4046-d78b-36ce6def9a54"
      },
      "source": [
        "data.head()"
      ],
      "execution_count": null,
      "outputs": [
        {
          "output_type": "execute_result",
          "data": {
            "text/html": [
              "\n",
              "  <div id=\"df-c3f1f32a-70c6-4bfd-94c6-b50ccf53113b\">\n",
              "    <div class=\"colab-df-container\">\n",
              "      <div>\n",
              "<style scoped>\n",
              "    .dataframe tbody tr th:only-of-type {\n",
              "        vertical-align: middle;\n",
              "    }\n",
              "\n",
              "    .dataframe tbody tr th {\n",
              "        vertical-align: top;\n",
              "    }\n",
              "\n",
              "    .dataframe thead th {\n",
              "        text-align: right;\n",
              "    }\n",
              "</style>\n",
              "<table border=\"1\" class=\"dataframe\">\n",
              "  <thead>\n",
              "    <tr style=\"text-align: right;\">\n",
              "      <th></th>\n",
              "      <th>Date</th>\n",
              "      <th>Open</th>\n",
              "      <th>High</th>\n",
              "      <th>Low</th>\n",
              "      <th>Close</th>\n",
              "      <th>Adj Close</th>\n",
              "      <th>Volume</th>\n",
              "    </tr>\n",
              "  </thead>\n",
              "  <tbody>\n",
              "    <tr>\n",
              "      <th>0</th>\n",
              "      <td>2020-11-26</td>\n",
              "      <td>18729.839844</td>\n",
              "      <td>18866.285156</td>\n",
              "      <td>16351.035156</td>\n",
              "      <td>17150.623047</td>\n",
              "      <td>17150.623047</td>\n",
              "      <td>61396835737</td>\n",
              "    </tr>\n",
              "    <tr>\n",
              "      <th>1</th>\n",
              "      <td>2020-11-27</td>\n",
              "      <td>17153.914063</td>\n",
              "      <td>17445.023438</td>\n",
              "      <td>16526.423828</td>\n",
              "      <td>17108.402344</td>\n",
              "      <td>17108.402344</td>\n",
              "      <td>38886494645</td>\n",
              "    </tr>\n",
              "    <tr>\n",
              "      <th>2</th>\n",
              "      <td>2020-11-28</td>\n",
              "      <td>17112.933594</td>\n",
              "      <td>17853.939453</td>\n",
              "      <td>16910.652344</td>\n",
              "      <td>17717.414063</td>\n",
              "      <td>17717.414063</td>\n",
              "      <td>32601040734</td>\n",
              "    </tr>\n",
              "    <tr>\n",
              "      <th>3</th>\n",
              "      <td>2020-11-29</td>\n",
              "      <td>17719.634766</td>\n",
              "      <td>18283.628906</td>\n",
              "      <td>17559.117188</td>\n",
              "      <td>18177.484375</td>\n",
              "      <td>18177.484375</td>\n",
              "      <td>31133957704</td>\n",
              "    </tr>\n",
              "    <tr>\n",
              "      <th>4</th>\n",
              "      <td>2020-11-30</td>\n",
              "      <td>18178.322266</td>\n",
              "      <td>19749.263672</td>\n",
              "      <td>18178.322266</td>\n",
              "      <td>19625.835938</td>\n",
              "      <td>19625.835938</td>\n",
              "      <td>47728480399</td>\n",
              "    </tr>\n",
              "  </tbody>\n",
              "</table>\n",
              "</div>\n",
              "      <button class=\"colab-df-convert\" onclick=\"convertToInteractive('df-c3f1f32a-70c6-4bfd-94c6-b50ccf53113b')\"\n",
              "              title=\"Convert this dataframe to an interactive table.\"\n",
              "              style=\"display:none;\">\n",
              "        \n",
              "  <svg xmlns=\"http://www.w3.org/2000/svg\" height=\"24px\"viewBox=\"0 0 24 24\"\n",
              "       width=\"24px\">\n",
              "    <path d=\"M0 0h24v24H0V0z\" fill=\"none\"/>\n",
              "    <path d=\"M18.56 5.44l.94 2.06.94-2.06 2.06-.94-2.06-.94-.94-2.06-.94 2.06-2.06.94zm-11 1L8.5 8.5l.94-2.06 2.06-.94-2.06-.94L8.5 2.5l-.94 2.06-2.06.94zm10 10l.94 2.06.94-2.06 2.06-.94-2.06-.94-.94-2.06-.94 2.06-2.06.94z\"/><path d=\"M17.41 7.96l-1.37-1.37c-.4-.4-.92-.59-1.43-.59-.52 0-1.04.2-1.43.59L10.3 9.45l-7.72 7.72c-.78.78-.78 2.05 0 2.83L4 21.41c.39.39.9.59 1.41.59.51 0 1.02-.2 1.41-.59l7.78-7.78 2.81-2.81c.8-.78.8-2.07 0-2.86zM5.41 20L4 18.59l7.72-7.72 1.47 1.35L5.41 20z\"/>\n",
              "  </svg>\n",
              "      </button>\n",
              "      \n",
              "  <style>\n",
              "    .colab-df-container {\n",
              "      display:flex;\n",
              "      flex-wrap:wrap;\n",
              "      gap: 12px;\n",
              "    }\n",
              "\n",
              "    .colab-df-convert {\n",
              "      background-color: #E8F0FE;\n",
              "      border: none;\n",
              "      border-radius: 50%;\n",
              "      cursor: pointer;\n",
              "      display: none;\n",
              "      fill: #1967D2;\n",
              "      height: 32px;\n",
              "      padding: 0 0 0 0;\n",
              "      width: 32px;\n",
              "    }\n",
              "\n",
              "    .colab-df-convert:hover {\n",
              "      background-color: #E2EBFA;\n",
              "      box-shadow: 0px 1px 2px rgba(60, 64, 67, 0.3), 0px 1px 3px 1px rgba(60, 64, 67, 0.15);\n",
              "      fill: #174EA6;\n",
              "    }\n",
              "\n",
              "    [theme=dark] .colab-df-convert {\n",
              "      background-color: #3B4455;\n",
              "      fill: #D2E3FC;\n",
              "    }\n",
              "\n",
              "    [theme=dark] .colab-df-convert:hover {\n",
              "      background-color: #434B5C;\n",
              "      box-shadow: 0px 1px 3px 1px rgba(0, 0, 0, 0.15);\n",
              "      filter: drop-shadow(0px 1px 2px rgba(0, 0, 0, 0.3));\n",
              "      fill: #FFFFFF;\n",
              "    }\n",
              "  </style>\n",
              "\n",
              "      <script>\n",
              "        const buttonEl =\n",
              "          document.querySelector('#df-c3f1f32a-70c6-4bfd-94c6-b50ccf53113b button.colab-df-convert');\n",
              "        buttonEl.style.display =\n",
              "          google.colab.kernel.accessAllowed ? 'block' : 'none';\n",
              "\n",
              "        async function convertToInteractive(key) {\n",
              "          const element = document.querySelector('#df-c3f1f32a-70c6-4bfd-94c6-b50ccf53113b');\n",
              "          const dataTable =\n",
              "            await google.colab.kernel.invokeFunction('convertToInteractive',\n",
              "                                                     [key], {});\n",
              "          if (!dataTable) return;\n",
              "\n",
              "          const docLinkHtml = 'Like what you see? Visit the ' +\n",
              "            '<a target=\"_blank\" href=https://colab.research.google.com/notebooks/data_table.ipynb>data table notebook</a>'\n",
              "            + ' to learn more about interactive tables.';\n",
              "          element.innerHTML = '';\n",
              "          dataTable['output_type'] = 'display_data';\n",
              "          await google.colab.output.renderOutput(dataTable, element);\n",
              "          const docLink = document.createElement('div');\n",
              "          docLink.innerHTML = docLinkHtml;\n",
              "          element.appendChild(docLink);\n",
              "        }\n",
              "      </script>\n",
              "    </div>\n",
              "  </div>\n",
              "  "
            ],
            "text/plain": [
              "         Date          Open  ...     Adj Close       Volume\n",
              "0  2020-11-26  18729.839844  ...  17150.623047  61396835737\n",
              "1  2020-11-27  17153.914063  ...  17108.402344  38886494645\n",
              "2  2020-11-28  17112.933594  ...  17717.414063  32601040734\n",
              "3  2020-11-29  17719.634766  ...  18177.484375  31133957704\n",
              "4  2020-11-30  18178.322266  ...  19625.835938  47728480399\n",
              "\n",
              "[5 rows x 7 columns]"
            ]
          },
          "metadata": {},
          "execution_count": 5
        }
      ]
    },
    {
      "cell_type": "code",
      "metadata": {
        "id": "c4dUdPe18RVD",
        "colab": {
          "base_uri": "https://localhost:8080/",
          "height": 205
        },
        "outputId": "c29a2e8c-cf6b-4f01-d868-09ee649aaae1"
      },
      "source": [
        "data.tail()"
      ],
      "execution_count": null,
      "outputs": [
        {
          "output_type": "execute_result",
          "data": {
            "text/html": [
              "\n",
              "  <div id=\"df-11eb6d52-f09e-40e3-b93e-dcdb1265e573\">\n",
              "    <div class=\"colab-df-container\">\n",
              "      <div>\n",
              "<style scoped>\n",
              "    .dataframe tbody tr th:only-of-type {\n",
              "        vertical-align: middle;\n",
              "    }\n",
              "\n",
              "    .dataframe tbody tr th {\n",
              "        vertical-align: top;\n",
              "    }\n",
              "\n",
              "    .dataframe thead th {\n",
              "        text-align: right;\n",
              "    }\n",
              "</style>\n",
              "<table border=\"1\" class=\"dataframe\">\n",
              "  <thead>\n",
              "    <tr style=\"text-align: right;\">\n",
              "      <th></th>\n",
              "      <th>Date</th>\n",
              "      <th>Open</th>\n",
              "      <th>High</th>\n",
              "      <th>Low</th>\n",
              "      <th>Close</th>\n",
              "      <th>Adj Close</th>\n",
              "      <th>Volume</th>\n",
              "    </tr>\n",
              "  </thead>\n",
              "  <tbody>\n",
              "    <tr>\n",
              "      <th>361</th>\n",
              "      <td>2021-11-22</td>\n",
              "      <td>58706.847656</td>\n",
              "      <td>59266.359375</td>\n",
              "      <td>55679.839844</td>\n",
              "      <td>56289.289063</td>\n",
              "      <td>56289.289063</td>\n",
              "      <td>35036121783</td>\n",
              "    </tr>\n",
              "    <tr>\n",
              "      <th>362</th>\n",
              "      <td>2021-11-23</td>\n",
              "      <td>56304.554688</td>\n",
              "      <td>57875.515625</td>\n",
              "      <td>55632.761719</td>\n",
              "      <td>57569.074219</td>\n",
              "      <td>57569.074219</td>\n",
              "      <td>37485803899</td>\n",
              "    </tr>\n",
              "    <tr>\n",
              "      <th>363</th>\n",
              "      <td>2021-11-24</td>\n",
              "      <td>57565.851563</td>\n",
              "      <td>57803.066406</td>\n",
              "      <td>55964.222656</td>\n",
              "      <td>56280.425781</td>\n",
              "      <td>56280.425781</td>\n",
              "      <td>36635566789</td>\n",
              "    </tr>\n",
              "    <tr>\n",
              "      <th>364</th>\n",
              "      <td>2021-11-25</td>\n",
              "      <td>57165.417969</td>\n",
              "      <td>59367.968750</td>\n",
              "      <td>57146.683594</td>\n",
              "      <td>57274.679688</td>\n",
              "      <td>57274.679688</td>\n",
              "      <td>34284016248</td>\n",
              "    </tr>\n",
              "    <tr>\n",
              "      <th>365</th>\n",
              "      <td>2021-11-26</td>\n",
              "      <td>59043.957031</td>\n",
              "      <td>59180.343750</td>\n",
              "      <td>53625.210938</td>\n",
              "      <td>54500.160156</td>\n",
              "      <td>54500.160156</td>\n",
              "      <td>43114151936</td>\n",
              "    </tr>\n",
              "  </tbody>\n",
              "</table>\n",
              "</div>\n",
              "      <button class=\"colab-df-convert\" onclick=\"convertToInteractive('df-11eb6d52-f09e-40e3-b93e-dcdb1265e573')\"\n",
              "              title=\"Convert this dataframe to an interactive table.\"\n",
              "              style=\"display:none;\">\n",
              "        \n",
              "  <svg xmlns=\"http://www.w3.org/2000/svg\" height=\"24px\"viewBox=\"0 0 24 24\"\n",
              "       width=\"24px\">\n",
              "    <path d=\"M0 0h24v24H0V0z\" fill=\"none\"/>\n",
              "    <path d=\"M18.56 5.44l.94 2.06.94-2.06 2.06-.94-2.06-.94-.94-2.06-.94 2.06-2.06.94zm-11 1L8.5 8.5l.94-2.06 2.06-.94-2.06-.94L8.5 2.5l-.94 2.06-2.06.94zm10 10l.94 2.06.94-2.06 2.06-.94-2.06-.94-.94-2.06-.94 2.06-2.06.94z\"/><path d=\"M17.41 7.96l-1.37-1.37c-.4-.4-.92-.59-1.43-.59-.52 0-1.04.2-1.43.59L10.3 9.45l-7.72 7.72c-.78.78-.78 2.05 0 2.83L4 21.41c.39.39.9.59 1.41.59.51 0 1.02-.2 1.41-.59l7.78-7.78 2.81-2.81c.8-.78.8-2.07 0-2.86zM5.41 20L4 18.59l7.72-7.72 1.47 1.35L5.41 20z\"/>\n",
              "  </svg>\n",
              "      </button>\n",
              "      \n",
              "  <style>\n",
              "    .colab-df-container {\n",
              "      display:flex;\n",
              "      flex-wrap:wrap;\n",
              "      gap: 12px;\n",
              "    }\n",
              "\n",
              "    .colab-df-convert {\n",
              "      background-color: #E8F0FE;\n",
              "      border: none;\n",
              "      border-radius: 50%;\n",
              "      cursor: pointer;\n",
              "      display: none;\n",
              "      fill: #1967D2;\n",
              "      height: 32px;\n",
              "      padding: 0 0 0 0;\n",
              "      width: 32px;\n",
              "    }\n",
              "\n",
              "    .colab-df-convert:hover {\n",
              "      background-color: #E2EBFA;\n",
              "      box-shadow: 0px 1px 2px rgba(60, 64, 67, 0.3), 0px 1px 3px 1px rgba(60, 64, 67, 0.15);\n",
              "      fill: #174EA6;\n",
              "    }\n",
              "\n",
              "    [theme=dark] .colab-df-convert {\n",
              "      background-color: #3B4455;\n",
              "      fill: #D2E3FC;\n",
              "    }\n",
              "\n",
              "    [theme=dark] .colab-df-convert:hover {\n",
              "      background-color: #434B5C;\n",
              "      box-shadow: 0px 1px 3px 1px rgba(0, 0, 0, 0.15);\n",
              "      filter: drop-shadow(0px 1px 2px rgba(0, 0, 0, 0.3));\n",
              "      fill: #FFFFFF;\n",
              "    }\n",
              "  </style>\n",
              "\n",
              "      <script>\n",
              "        const buttonEl =\n",
              "          document.querySelector('#df-11eb6d52-f09e-40e3-b93e-dcdb1265e573 button.colab-df-convert');\n",
              "        buttonEl.style.display =\n",
              "          google.colab.kernel.accessAllowed ? 'block' : 'none';\n",
              "\n",
              "        async function convertToInteractive(key) {\n",
              "          const element = document.querySelector('#df-11eb6d52-f09e-40e3-b93e-dcdb1265e573');\n",
              "          const dataTable =\n",
              "            await google.colab.kernel.invokeFunction('convertToInteractive',\n",
              "                                                     [key], {});\n",
              "          if (!dataTable) return;\n",
              "\n",
              "          const docLinkHtml = 'Like what you see? Visit the ' +\n",
              "            '<a target=\"_blank\" href=https://colab.research.google.com/notebooks/data_table.ipynb>data table notebook</a>'\n",
              "            + ' to learn more about interactive tables.';\n",
              "          element.innerHTML = '';\n",
              "          dataTable['output_type'] = 'display_data';\n",
              "          await google.colab.output.renderOutput(dataTable, element);\n",
              "          const docLink = document.createElement('div');\n",
              "          docLink.innerHTML = docLinkHtml;\n",
              "          element.appendChild(docLink);\n",
              "        }\n",
              "      </script>\n",
              "    </div>\n",
              "  </div>\n",
              "  "
            ],
            "text/plain": [
              "           Date          Open  ...     Adj Close       Volume\n",
              "361  2021-11-22  58706.847656  ...  56289.289063  35036121783\n",
              "362  2021-11-23  56304.554688  ...  57569.074219  37485803899\n",
              "363  2021-11-24  57565.851563  ...  56280.425781  36635566789\n",
              "364  2021-11-25  57165.417969  ...  57274.679688  34284016248\n",
              "365  2021-11-26  59043.957031  ...  54500.160156  43114151936\n",
              "\n",
              "[5 rows x 7 columns]"
            ]
          },
          "metadata": {},
          "execution_count": 6
        }
      ]
    },
    {
      "cell_type": "code",
      "metadata": {
        "id": "xvoiQH6b8WoO",
        "colab": {
          "base_uri": "https://localhost:8080/"
        },
        "outputId": "5ca848dc-4020-4c7f-9ffc-ac72b0a1659f"
      },
      "source": [
        "#checking for null values in main dataset\n",
        "data.isnull().sum()"
      ],
      "execution_count": null,
      "outputs": [
        {
          "output_type": "execute_result",
          "data": {
            "text/plain": [
              "Date         0\n",
              "Open         0\n",
              "High         0\n",
              "Low          0\n",
              "Close        0\n",
              "Adj Close    0\n",
              "Volume       0\n",
              "dtype: int64"
            ]
          },
          "metadata": {},
          "execution_count": 7
        }
      ]
    },
    {
      "cell_type": "code",
      "metadata": {
        "id": "1jt9e4d58RWj",
        "colab": {
          "base_uri": "https://localhost:8080/"
        },
        "outputId": "b5cbdcd8-c7e9-4ab4-a5f1-dc62eb95e3bb"
      },
      "source": [
        "data.info()"
      ],
      "execution_count": null,
      "outputs": [
        {
          "output_type": "stream",
          "name": "stdout",
          "text": [
            "<class 'pandas.core.frame.DataFrame'>\n",
            "RangeIndex: 366 entries, 0 to 365\n",
            "Data columns (total 7 columns):\n",
            " #   Column     Non-Null Count  Dtype  \n",
            "---  ------     --------------  -----  \n",
            " 0   Date       366 non-null    object \n",
            " 1   Open       366 non-null    float64\n",
            " 2   High       366 non-null    float64\n",
            " 3   Low        366 non-null    float64\n",
            " 4   Close      366 non-null    float64\n",
            " 5   Adj Close  366 non-null    float64\n",
            " 6   Volume     366 non-null    int64  \n",
            "dtypes: float64(5), int64(1), object(1)\n",
            "memory usage: 20.1+ KB\n"
          ]
        }
      ]
    },
    {
      "cell_type": "code",
      "metadata": {
        "id": "BzqS2qUI8Rbs",
        "colab": {
          "base_uri": "https://localhost:8080/",
          "height": 205
        },
        "outputId": "ecbe7245-6939-404b-e52a-a7b00a2b03ae"
      },
      "source": [
        "#We dont need 'Date' Column to make predictions so we drop it\n",
        "data=data.drop(data[['Date']],axis=1)\n",
        "data.head()"
      ],
      "execution_count": null,
      "outputs": [
        {
          "output_type": "execute_result",
          "data": {
            "text/html": [
              "\n",
              "  <div id=\"df-0b5ed04b-eb0b-4fd3-b68f-f64fba51d7af\">\n",
              "    <div class=\"colab-df-container\">\n",
              "      <div>\n",
              "<style scoped>\n",
              "    .dataframe tbody tr th:only-of-type {\n",
              "        vertical-align: middle;\n",
              "    }\n",
              "\n",
              "    .dataframe tbody tr th {\n",
              "        vertical-align: top;\n",
              "    }\n",
              "\n",
              "    .dataframe thead th {\n",
              "        text-align: right;\n",
              "    }\n",
              "</style>\n",
              "<table border=\"1\" class=\"dataframe\">\n",
              "  <thead>\n",
              "    <tr style=\"text-align: right;\">\n",
              "      <th></th>\n",
              "      <th>Open</th>\n",
              "      <th>High</th>\n",
              "      <th>Low</th>\n",
              "      <th>Close</th>\n",
              "      <th>Adj Close</th>\n",
              "      <th>Volume</th>\n",
              "    </tr>\n",
              "  </thead>\n",
              "  <tbody>\n",
              "    <tr>\n",
              "      <th>0</th>\n",
              "      <td>18729.839844</td>\n",
              "      <td>18866.285156</td>\n",
              "      <td>16351.035156</td>\n",
              "      <td>17150.623047</td>\n",
              "      <td>17150.623047</td>\n",
              "      <td>61396835737</td>\n",
              "    </tr>\n",
              "    <tr>\n",
              "      <th>1</th>\n",
              "      <td>17153.914063</td>\n",
              "      <td>17445.023438</td>\n",
              "      <td>16526.423828</td>\n",
              "      <td>17108.402344</td>\n",
              "      <td>17108.402344</td>\n",
              "      <td>38886494645</td>\n",
              "    </tr>\n",
              "    <tr>\n",
              "      <th>2</th>\n",
              "      <td>17112.933594</td>\n",
              "      <td>17853.939453</td>\n",
              "      <td>16910.652344</td>\n",
              "      <td>17717.414063</td>\n",
              "      <td>17717.414063</td>\n",
              "      <td>32601040734</td>\n",
              "    </tr>\n",
              "    <tr>\n",
              "      <th>3</th>\n",
              "      <td>17719.634766</td>\n",
              "      <td>18283.628906</td>\n",
              "      <td>17559.117188</td>\n",
              "      <td>18177.484375</td>\n",
              "      <td>18177.484375</td>\n",
              "      <td>31133957704</td>\n",
              "    </tr>\n",
              "    <tr>\n",
              "      <th>4</th>\n",
              "      <td>18178.322266</td>\n",
              "      <td>19749.263672</td>\n",
              "      <td>18178.322266</td>\n",
              "      <td>19625.835938</td>\n",
              "      <td>19625.835938</td>\n",
              "      <td>47728480399</td>\n",
              "    </tr>\n",
              "  </tbody>\n",
              "</table>\n",
              "</div>\n",
              "      <button class=\"colab-df-convert\" onclick=\"convertToInteractive('df-0b5ed04b-eb0b-4fd3-b68f-f64fba51d7af')\"\n",
              "              title=\"Convert this dataframe to an interactive table.\"\n",
              "              style=\"display:none;\">\n",
              "        \n",
              "  <svg xmlns=\"http://www.w3.org/2000/svg\" height=\"24px\"viewBox=\"0 0 24 24\"\n",
              "       width=\"24px\">\n",
              "    <path d=\"M0 0h24v24H0V0z\" fill=\"none\"/>\n",
              "    <path d=\"M18.56 5.44l.94 2.06.94-2.06 2.06-.94-2.06-.94-.94-2.06-.94 2.06-2.06.94zm-11 1L8.5 8.5l.94-2.06 2.06-.94-2.06-.94L8.5 2.5l-.94 2.06-2.06.94zm10 10l.94 2.06.94-2.06 2.06-.94-2.06-.94-.94-2.06-.94 2.06-2.06.94z\"/><path d=\"M17.41 7.96l-1.37-1.37c-.4-.4-.92-.59-1.43-.59-.52 0-1.04.2-1.43.59L10.3 9.45l-7.72 7.72c-.78.78-.78 2.05 0 2.83L4 21.41c.39.39.9.59 1.41.59.51 0 1.02-.2 1.41-.59l7.78-7.78 2.81-2.81c.8-.78.8-2.07 0-2.86zM5.41 20L4 18.59l7.72-7.72 1.47 1.35L5.41 20z\"/>\n",
              "  </svg>\n",
              "      </button>\n",
              "      \n",
              "  <style>\n",
              "    .colab-df-container {\n",
              "      display:flex;\n",
              "      flex-wrap:wrap;\n",
              "      gap: 12px;\n",
              "    }\n",
              "\n",
              "    .colab-df-convert {\n",
              "      background-color: #E8F0FE;\n",
              "      border: none;\n",
              "      border-radius: 50%;\n",
              "      cursor: pointer;\n",
              "      display: none;\n",
              "      fill: #1967D2;\n",
              "      height: 32px;\n",
              "      padding: 0 0 0 0;\n",
              "      width: 32px;\n",
              "    }\n",
              "\n",
              "    .colab-df-convert:hover {\n",
              "      background-color: #E2EBFA;\n",
              "      box-shadow: 0px 1px 2px rgba(60, 64, 67, 0.3), 0px 1px 3px 1px rgba(60, 64, 67, 0.15);\n",
              "      fill: #174EA6;\n",
              "    }\n",
              "\n",
              "    [theme=dark] .colab-df-convert {\n",
              "      background-color: #3B4455;\n",
              "      fill: #D2E3FC;\n",
              "    }\n",
              "\n",
              "    [theme=dark] .colab-df-convert:hover {\n",
              "      background-color: #434B5C;\n",
              "      box-shadow: 0px 1px 3px 1px rgba(0, 0, 0, 0.15);\n",
              "      filter: drop-shadow(0px 1px 2px rgba(0, 0, 0, 0.3));\n",
              "      fill: #FFFFFF;\n",
              "    }\n",
              "  </style>\n",
              "\n",
              "      <script>\n",
              "        const buttonEl =\n",
              "          document.querySelector('#df-0b5ed04b-eb0b-4fd3-b68f-f64fba51d7af button.colab-df-convert');\n",
              "        buttonEl.style.display =\n",
              "          google.colab.kernel.accessAllowed ? 'block' : 'none';\n",
              "\n",
              "        async function convertToInteractive(key) {\n",
              "          const element = document.querySelector('#df-0b5ed04b-eb0b-4fd3-b68f-f64fba51d7af');\n",
              "          const dataTable =\n",
              "            await google.colab.kernel.invokeFunction('convertToInteractive',\n",
              "                                                     [key], {});\n",
              "          if (!dataTable) return;\n",
              "\n",
              "          const docLinkHtml = 'Like what you see? Visit the ' +\n",
              "            '<a target=\"_blank\" href=https://colab.research.google.com/notebooks/data_table.ipynb>data table notebook</a>'\n",
              "            + ' to learn more about interactive tables.';\n",
              "          element.innerHTML = '';\n",
              "          dataTable['output_type'] = 'display_data';\n",
              "          await google.colab.output.renderOutput(dataTable, element);\n",
              "          const docLink = document.createElement('div');\n",
              "          docLink.innerHTML = docLinkHtml;\n",
              "          element.appendChild(docLink);\n",
              "        }\n",
              "      </script>\n",
              "    </div>\n",
              "  </div>\n",
              "  "
            ],
            "text/plain": [
              "           Open          High  ...     Adj Close       Volume\n",
              "0  18729.839844  18866.285156  ...  17150.623047  61396835737\n",
              "1  17153.914063  17445.023438  ...  17108.402344  38886494645\n",
              "2  17112.933594  17853.939453  ...  17717.414063  32601040734\n",
              "3  17719.634766  18283.628906  ...  18177.484375  31133957704\n",
              "4  18178.322266  19749.263672  ...  19625.835938  47728480399\n",
              "\n",
              "[5 rows x 6 columns]"
            ]
          },
          "metadata": {},
          "execution_count": 9
        }
      ]
    },
    {
      "cell_type": "code",
      "source": [
        "x=data.copy()\n",
        "x=x.drop(x[['Close']],axis=1)\n",
        "x.shape"
      ],
      "metadata": {
        "id": "f77D0RCWK4bQ",
        "colab": {
          "base_uri": "https://localhost:8080/"
        },
        "outputId": "f18f52ee-0498-4af0-f9d4-556320b5069a"
      },
      "execution_count": null,
      "outputs": [
        {
          "output_type": "execute_result",
          "data": {
            "text/plain": [
              "(366, 5)"
            ]
          },
          "metadata": {},
          "execution_count": 10
        }
      ]
    },
    {
      "cell_type": "code",
      "source": [
        "y=data.copy()\n",
        "y=y.drop(y[['Open','High','Low','Adj Close','Volume']],axis=1)\n",
        "y.shape"
      ],
      "metadata": {
        "id": "qWSDWCXOHRFU",
        "colab": {
          "base_uri": "https://localhost:8080/"
        },
        "outputId": "05e759f2-a4f9-4622-d23c-ba3f6ca20e1a"
      },
      "execution_count": null,
      "outputs": [
        {
          "output_type": "execute_result",
          "data": {
            "text/plain": [
              "(366, 1)"
            ]
          },
          "metadata": {},
          "execution_count": 11
        }
      ]
    },
    {
      "cell_type": "markdown",
      "source": [
        "##FEATURE EXTRACTION"
      ],
      "metadata": {
        "id": "VWZ1pGLIYDf3"
      }
    },
    {
      "cell_type": "code",
      "source": [
        "colormap = plt.cm.RdBu\n",
        "plt.figure(figsize=(14,12))\n",
        "plt.title(' Correlation of Features', y=1.05, size=15)\n",
        "sns.heatmap(x.corr(),cmap=colormap, linewidths = 0.30, annot = True)"
      ],
      "metadata": {
        "id": "8ZrzvYU-YEK8",
        "colab": {
          "base_uri": "https://localhost:8080/",
          "height": 768
        },
        "outputId": "291bded2-11fc-4ed5-f63d-57575964183f"
      },
      "execution_count": null,
      "outputs": [
        {
          "output_type": "execute_result",
          "data": {
            "text/plain": [
              "<matplotlib.axes._subplots.AxesSubplot at 0x7f18930c8610>"
            ]
          },
          "metadata": {},
          "execution_count": 12
        },
        {
          "output_type": "display_data",
          "data": {
            "image/png": "[encoded data removed]",
            "text/plain": [
              "<Figure size 1008x864 with 2 Axes>"
            ]
          },
          "metadata": {
            "needs_background": "light"
          }
        }
      ]
    },
    {
      "cell_type": "markdown",
      "source": [
        "We are dropping the 'High' and 'Adj Close' columns for training,validation and test data"
      ],
      "metadata": {
        "id": "EZK9HWlhYFsl"
      }
    },
    {
      "cell_type": "code",
      "source": [
        "x=x.drop(x[['High','Adj Close']],axis=1)\n",
        "x.shape"
      ],
      "metadata": {
        "id": "T0BYQwMHYEc5",
        "colab": {
          "base_uri": "https://localhost:8080/"
        },
        "outputId": "95c0d5a4-60de-48c8-aff0-ca81cd267ec8"
      },
      "execution_count": null,
      "outputs": [
        {
          "output_type": "execute_result",
          "data": {
            "text/plain": [
              "(366, 3)"
            ]
          },
          "metadata": {},
          "execution_count": 13
        }
      ]
    },
    {
      "cell_type": "markdown",
      "metadata": {
        "id": "bMfSJRo6Pi9j"
      },
      "source": [
        "##SPLITING OF DATA"
      ]
    },
    {
      "cell_type": "code",
      "metadata": {
        "id": "DK-9lbKLAwHh"
      },
      "source": [
        "x_train, x_test, y_train, y_test = train_test_split(x, y,test_size=0.2)"
      ],
      "execution_count": null,
      "outputs": []
    },
    {
      "cell_type": "code",
      "metadata": {
        "id": "SymjQxccAwLd"
      },
      "source": [
        "x_train, x_val, y_train, y_val = train_test_split(x_train, y_train, test_size=0.2, random_state=1)"
      ],
      "execution_count": null,
      "outputs": []
    },
    {
      "cell_type": "code",
      "metadata": {
        "id": "du1uHTZdKzBR",
        "colab": {
          "base_uri": "https://localhost:8080/"
        },
        "outputId": "005db40b-cd20-4f72-fd6d-94574629e0e9"
      },
      "source": [
        "x_train.shape"
      ],
      "execution_count": null,
      "outputs": [
        {
          "output_type": "execute_result",
          "data": {
            "text/plain": [
              "(233, 3)"
            ]
          },
          "metadata": {},
          "execution_count": 16
        }
      ]
    },
    {
      "cell_type": "code",
      "metadata": {
        "id": "6ZND2Mb4Ky7f",
        "colab": {
          "base_uri": "https://localhost:8080/"
        },
        "outputId": "e8746c28-47f8-4c1f-91c6-a5291175fa68"
      },
      "source": [
        "y_train.shape"
      ],
      "execution_count": null,
      "outputs": [
        {
          "output_type": "execute_result",
          "data": {
            "text/plain": [
              "(233, 1)"
            ]
          },
          "metadata": {},
          "execution_count": 22
        }
      ]
    },
    {
      "cell_type": "code",
      "metadata": {
        "id": "MNdReBpvKy4G",
        "colab": {
          "base_uri": "https://localhost:8080/"
        },
        "outputId": "c9fd3e36-7f70-480b-c365-e18f48d716c7"
      },
      "source": [
        "x_val.shape"
      ],
      "execution_count": null,
      "outputs": [
        {
          "output_type": "execute_result",
          "data": {
            "text/plain": [
              "(59, 3)"
            ]
          },
          "metadata": {},
          "execution_count": 23
        }
      ]
    },
    {
      "cell_type": "code",
      "metadata": {
        "id": "0RIE7bqhKy2c",
        "colab": {
          "base_uri": "https://localhost:8080/"
        },
        "outputId": "a94487ce-70d9-4108-d853-7ea394fbdcd6"
      },
      "source": [
        "y_val.shape"
      ],
      "execution_count": null,
      "outputs": [
        {
          "output_type": "execute_result",
          "data": {
            "text/plain": [
              "(59, 1)"
            ]
          },
          "metadata": {},
          "execution_count": 24
        }
      ]
    },
    {
      "cell_type": "code",
      "metadata": {
        "id": "_DXq4z4dKym7",
        "colab": {
          "base_uri": "https://localhost:8080/"
        },
        "outputId": "99c7864b-8948-4233-c5fd-ae8ef4d70577"
      },
      "source": [
        "x_test.shape"
      ],
      "execution_count": null,
      "outputs": [
        {
          "output_type": "execute_result",
          "data": {
            "text/plain": [
              "(74, 3)"
            ]
          },
          "metadata": {},
          "execution_count": 25
        }
      ]
    },
    {
      "cell_type": "code",
      "metadata": {
        "id": "0f3lKNwOSDzS",
        "colab": {
          "base_uri": "https://localhost:8080/"
        },
        "outputId": "06f1961e-5651-4fd9-cf7e-1cba43474c28"
      },
      "source": [
        "y_test.shape"
      ],
      "execution_count": null,
      "outputs": [
        {
          "output_type": "execute_result",
          "data": {
            "text/plain": [
              "(74, 1)"
            ]
          },
          "metadata": {},
          "execution_count": 26
        }
      ]
    },
    {
      "cell_type": "markdown",
      "source": [
        "##SCALING OF DATA"
      ],
      "metadata": {
        "id": "Varg6PkJY7C8"
      }
    },
    {
      "cell_type": "code",
      "source": [
        "\n",
        "#Scalar transformation of target variable\n",
        "fscaler = MinMaxScaler()\n",
        "fscaler.fit(x_train)\n",
        "x_train= fscaler.transform(x_train)\n",
        "x_val= fscaler.transform(x_val)\n",
        "x_test= fscaler.transform(x_test)\n"
      ],
      "metadata": {
        "id": "-KAaUyS6O2sW"
      },
      "execution_count": null,
      "outputs": []
    },
    {
      "cell_type": "code",
      "source": [
        "#Scalar transformation of target variable\n",
        "scaler = MinMaxScaler()\n",
        "scaler.fit(y_train)\n",
        "y_train= scaler.transform(y_train)\n",
        "y_val= scaler.transform(y_val)\n",
        "y_test= scaler.transform(y_test)"
      ],
      "metadata": {
        "id": "yFVsTmRAHfji"
      },
      "execution_count": null,
      "outputs": []
    },
    {
      "cell_type": "markdown",
      "metadata": {
        "id": "p0Qj4tq9QF-a"
      },
      "source": [
        "##BUILDING MODEL"
      ]
    },
    {
      "cell_type": "code",
      "metadata": {
        "id": "pk8LznRpSPIa"
      },
      "source": [
        "from tensorflow.keras import Sequential\n",
        "from tensorflow.keras.layers import Dense, LSTM, Dropout"
      ],
      "execution_count": null,
      "outputs": []
    },
    {
      "cell_type": "code",
      "metadata": {
        "id": "Bo37HChkSPEQ"
      },
      "source": [
        "model = Sequential() \n",
        "model.add(LSTM(units = 50, activation = 'sigmoid', return_sequences = True,input_shape=(None,1) ))"
      ],
      "execution_count": null,
      "outputs": []
    },
    {
      "cell_type": "code",
      "metadata": {
        "id": "CWkhJSIGSPCi"
      },
      "source": [
        "model.add(Dropout(0.2)) \n",
        "model.add(LSTM(units = 60, activation = 'sigmoid', return_sequences = True))\n",
        "model.add(Dropout(0.3)) \n",
        "model.add(LSTM(units = 80, activation = 'sigmoid', return_sequences = True))\n",
        "model.add(Dropout(0.3)) \n",
        "model.add(LSTM(units = 120, activation = 'sigmoid'))\n",
        "model.add(Dropout(0.2)) \n",
        "model.add(Dense(units =1,activation='sigmoid'))\n"
      ],
      "execution_count": null,
      "outputs": []
    },
    {
      "cell_type": "code",
      "metadata": {
        "id": "yrAyRQieSbsW"
      },
      "source": [
        "model.compile(optimizer = 'adam', loss = 'mean_squared_error',metrics='mean_squared_error')"
      ],
      "execution_count": null,
      "outputs": []
    },
    {
      "cell_type": "code",
      "metadata": {
        "id": "7EgLIaWpSbq3",
        "colab": {
          "base_uri": "https://localhost:8080/"
        },
        "outputId": "eaed7dad-5c00-4580-854a-8bb3bbba64c5"
      },
      "source": [
        "history=model.fit(x_train, y_train,validation_data=(x_val,y_val), epochs = 250,batch_size=80)"
      ],
      "execution_count": null,
      "outputs": [
        {
          "output_type": "stream",
          "name": "stdout",
          "text": [
            "Epoch 1/250\n",
            "3/3 [==============================] - 6s 387ms/step - loss: 0.0755 - mean_squared_error: 0.0755 - val_loss: 0.0792 - val_mean_squared_error: 0.0792\n",
            "Epoch 2/250\n",
            "3/3 [==============================] - 0s 33ms/step - loss: 0.0674 - mean_squared_error: 0.0674 - val_loss: 0.0914 - val_mean_squared_error: 0.0914\n",
            "Epoch 3/250\n",
            "3/3 [==============================] - 0s 32ms/step - loss: 0.0677 - mean_squared_error: 0.0677 - val_loss: 0.0871 - val_mean_squared_error: 0.0871\n",
            "Epoch 4/250\n",
            "3/3 [==============================] - 0s 33ms/step - loss: 0.0637 - mean_squared_error: 0.0637 - val_loss: 0.0802 - val_mean_squared_error: 0.0802\n",
            "Epoch 5/250\n",
            "3/3 [==============================] - 0s 31ms/step - loss: 0.0658 - mean_squared_error: 0.0658 - val_loss: 0.0781 - val_mean_squared_error: 0.0781\n",
            "Epoch 6/250\n",
            "3/3 [==============================] - 0s 32ms/step - loss: 0.0621 - mean_squared_error: 0.0621 - val_loss: 0.0781 - val_mean_squared_error: 0.0781\n",
            "Epoch 7/250\n",
            "3/3 [==============================] - 0s 35ms/step - loss: 0.0618 - mean_squared_error: 0.0618 - val_loss: 0.0785 - val_mean_squared_error: 0.0785\n",
            "Epoch 8/250\n",
            "3/3 [==============================] - 0s 45ms/step - loss: 0.0626 - mean_squared_error: 0.0626 - val_loss: 0.0800 - val_mean_squared_error: 0.0800\n",
            "Epoch 9/250\n",
            "3/3 [==============================] - 0s 32ms/step - loss: 0.0613 - mean_squared_error: 0.0613 - val_loss: 0.0813 - val_mean_squared_error: 0.0813\n",
            "Epoch 10/250\n",
            "3/3 [==============================] - 0s 32ms/step - loss: 0.0621 - mean_squared_error: 0.0621 - val_loss: 0.0811 - val_mean_squared_error: 0.0811\n",
            "Epoch 11/250\n",
            "3/3 [==============================] - 0s 33ms/step - loss: 0.0605 - mean_squared_error: 0.0605 - val_loss: 0.0800 - val_mean_squared_error: 0.0800\n",
            "Epoch 12/250\n",
            "3/3 [==============================] - 0s 34ms/step - loss: 0.0621 - mean_squared_error: 0.0621 - val_loss: 0.0787 - val_mean_squared_error: 0.0787\n",
            "Epoch 13/250\n",
            "3/3 [==============================] - 0s 33ms/step - loss: 0.0671 - mean_squared_error: 0.0671 - val_loss: 0.0783 - val_mean_squared_error: 0.0783\n",
            "Epoch 14/250\n",
            "3/3 [==============================] - 0s 34ms/step - loss: 0.0610 - mean_squared_error: 0.0610 - val_loss: 0.0789 - val_mean_squared_error: 0.0789\n",
            "Epoch 15/250\n",
            "3/3 [==============================] - 0s 34ms/step - loss: 0.0611 - mean_squared_error: 0.0611 - val_loss: 0.0798 - val_mean_squared_error: 0.0798\n",
            "Epoch 16/250\n",
            "3/3 [==============================] - 0s 33ms/step - loss: 0.0635 - mean_squared_error: 0.0635 - val_loss: 0.0804 - val_mean_squared_error: 0.0804\n",
            "Epoch 17/250\n",
            "3/3 [==============================] - 0s 32ms/step - loss: 0.0637 - mean_squared_error: 0.0637 - val_loss: 0.0797 - val_mean_squared_error: 0.0797\n",
            "Epoch 18/250\n",
            "3/3 [==============================] - 0s 36ms/step - loss: 0.0605 - mean_squared_error: 0.0605 - val_loss: 0.0794 - val_mean_squared_error: 0.0794\n",
            "Epoch 19/250\n",
            "3/3 [==============================] - 0s 33ms/step - loss: 0.0608 - mean_squared_error: 0.0608 - val_loss: 0.0790 - val_mean_squared_error: 0.0790\n",
            "Epoch 20/250\n",
            "3/3 [==============================] - 0s 32ms/step - loss: 0.0626 - mean_squared_error: 0.0626 - val_loss: 0.0789 - val_mean_squared_error: 0.0789\n",
            "Epoch 21/250\n",
            "3/3 [==============================] - 0s 32ms/step - loss: 0.0627 - mean_squared_error: 0.0627 - val_loss: 0.0790 - val_mean_squared_error: 0.0790\n",
            "Epoch 22/250\n",
            "3/3 [==============================] - 0s 32ms/step - loss: 0.0593 - mean_squared_error: 0.0593 - val_loss: 0.0796 - val_mean_squared_error: 0.0796\n",
            "Epoch 23/250\n",
            "3/3 [==============================] - 0s 33ms/step - loss: 0.0649 - mean_squared_error: 0.0649 - val_loss: 0.0800 - val_mean_squared_error: 0.0800\n",
            "Epoch 24/250\n",
            "3/3 [==============================] - 0s 32ms/step - loss: 0.0612 - mean_squared_error: 0.0612 - val_loss: 0.0804 - val_mean_squared_error: 0.0804\n",
            "Epoch 25/250\n",
            "3/3 [==============================] - 0s 32ms/step - loss: 0.0595 - mean_squared_error: 0.0595 - val_loss: 0.0798 - val_mean_squared_error: 0.0798\n",
            "Epoch 26/250\n",
            "3/3 [==============================] - 0s 35ms/step - loss: 0.0612 - mean_squared_error: 0.0612 - val_loss: 0.0790 - val_mean_squared_error: 0.0790\n",
            "Epoch 27/250\n",
            "3/3 [==============================] - 0s 31ms/step - loss: 0.0602 - mean_squared_error: 0.0602 - val_loss: 0.0788 - val_mean_squared_error: 0.0788\n",
            "Epoch 28/250\n",
            "3/3 [==============================] - 0s 32ms/step - loss: 0.0607 - mean_squared_error: 0.0607 - val_loss: 0.0790 - val_mean_squared_error: 0.0790\n",
            "Epoch 29/250\n",
            "3/3 [==============================] - 0s 36ms/step - loss: 0.0616 - mean_squared_error: 0.0616 - val_loss: 0.0794 - val_mean_squared_error: 0.0794\n",
            "Epoch 30/250\n",
            "3/3 [==============================] - 0s 32ms/step - loss: 0.0612 - mean_squared_error: 0.0612 - val_loss: 0.0799 - val_mean_squared_error: 0.0799\n",
            "Epoch 31/250\n",
            "3/3 [==============================] - 0s 32ms/step - loss: 0.0613 - mean_squared_error: 0.0613 - val_loss: 0.0803 - val_mean_squared_error: 0.0803\n",
            "Epoch 32/250\n",
            "3/3 [==============================] - 0s 32ms/step - loss: 0.0632 - mean_squared_error: 0.0632 - val_loss: 0.0800 - val_mean_squared_error: 0.0800\n",
            "Epoch 33/250\n",
            "3/3 [==============================] - 0s 34ms/step - loss: 0.0613 - mean_squared_error: 0.0613 - val_loss: 0.0795 - val_mean_squared_error: 0.0795\n",
            "Epoch 34/250\n",
            "3/3 [==============================] - 0s 34ms/step - loss: 0.0598 - mean_squared_error: 0.0598 - val_loss: 0.0788 - val_mean_squared_error: 0.0788\n",
            "Epoch 35/250\n",
            "3/3 [==============================] - 0s 35ms/step - loss: 0.0608 - mean_squared_error: 0.0608 - val_loss: 0.0786 - val_mean_squared_error: 0.0786\n",
            "Epoch 36/250\n",
            "3/3 [==============================] - 0s 33ms/step - loss: 0.0612 - mean_squared_error: 0.0612 - val_loss: 0.0790 - val_mean_squared_error: 0.0790\n",
            "Epoch 37/250\n",
            "3/3 [==============================] - 0s 34ms/step - loss: 0.0602 - mean_squared_error: 0.0602 - val_loss: 0.0799 - val_mean_squared_error: 0.0799\n",
            "Epoch 38/250\n",
            "3/3 [==============================] - 0s 33ms/step - loss: 0.0587 - mean_squared_error: 0.0587 - val_loss: 0.0799 - val_mean_squared_error: 0.0799\n",
            "Epoch 39/250\n",
            "3/3 [==============================] - 0s 37ms/step - loss: 0.0645 - mean_squared_error: 0.0645 - val_loss: 0.0797 - val_mean_squared_error: 0.0797\n",
            "Epoch 40/250\n",
            "3/3 [==============================] - 0s 35ms/step - loss: 0.0616 - mean_squared_error: 0.0616 - val_loss: 0.0797 - val_mean_squared_error: 0.0797\n",
            "Epoch 41/250\n",
            "3/3 [==============================] - 0s 32ms/step - loss: 0.0592 - mean_squared_error: 0.0592 - val_loss: 0.0794 - val_mean_squared_error: 0.0794\n",
            "Epoch 42/250\n",
            "3/3 [==============================] - 0s 33ms/step - loss: 0.0600 - mean_squared_error: 0.0600 - val_loss: 0.0794 - val_mean_squared_error: 0.0794\n",
            "Epoch 43/250\n",
            "3/3 [==============================] - 0s 33ms/step - loss: 0.0609 - mean_squared_error: 0.0609 - val_loss: 0.0800 - val_mean_squared_error: 0.0800\n",
            "Epoch 44/250\n",
            "3/3 [==============================] - 0s 32ms/step - loss: 0.0627 - mean_squared_error: 0.0627 - val_loss: 0.0795 - val_mean_squared_error: 0.0795\n",
            "Epoch 45/250\n",
            "3/3 [==============================] - 0s 33ms/step - loss: 0.0602 - mean_squared_error: 0.0602 - val_loss: 0.0797 - val_mean_squared_error: 0.0797\n",
            "Epoch 46/250\n",
            "3/3 [==============================] - 0s 36ms/step - loss: 0.0629 - mean_squared_error: 0.0629 - val_loss: 0.0794 - val_mean_squared_error: 0.0794\n",
            "Epoch 47/250\n",
            "3/3 [==============================] - 0s 33ms/step - loss: 0.0613 - mean_squared_error: 0.0613 - val_loss: 0.0790 - val_mean_squared_error: 0.0790\n",
            "Epoch 48/250\n",
            "3/3 [==============================] - 0s 31ms/step - loss: 0.0602 - mean_squared_error: 0.0602 - val_loss: 0.0788 - val_mean_squared_error: 0.0788\n",
            "Epoch 49/250\n",
            "3/3 [==============================] - 0s 31ms/step - loss: 0.0601 - mean_squared_error: 0.0601 - val_loss: 0.0791 - val_mean_squared_error: 0.0791\n",
            "Epoch 50/250\n",
            "3/3 [==============================] - 0s 37ms/step - loss: 0.0595 - mean_squared_error: 0.0595 - val_loss: 0.0795 - val_mean_squared_error: 0.0795\n",
            "Epoch 51/250\n",
            "3/3 [==============================] - 0s 32ms/step - loss: 0.0612 - mean_squared_error: 0.0612 - val_loss: 0.0802 - val_mean_squared_error: 0.0802\n",
            "Epoch 52/250\n",
            "3/3 [==============================] - 0s 32ms/step - loss: 0.0583 - mean_squared_error: 0.0583 - val_loss: 0.0804 - val_mean_squared_error: 0.0804\n",
            "Epoch 53/250\n",
            "3/3 [==============================] - 0s 44ms/step - loss: 0.0632 - mean_squared_error: 0.0632 - val_loss: 0.0792 - val_mean_squared_error: 0.0792\n",
            "Epoch 54/250\n",
            "3/3 [==============================] - 0s 32ms/step - loss: 0.0624 - mean_squared_error: 0.0624 - val_loss: 0.0788 - val_mean_squared_error: 0.0788\n",
            "Epoch 55/250\n",
            "3/3 [==============================] - 0s 32ms/step - loss: 0.0613 - mean_squared_error: 0.0613 - val_loss: 0.0791 - val_mean_squared_error: 0.0791\n",
            "Epoch 56/250\n",
            "3/3 [==============================] - 0s 31ms/step - loss: 0.0611 - mean_squared_error: 0.0611 - val_loss: 0.0794 - val_mean_squared_error: 0.0794\n",
            "Epoch 57/250\n",
            "3/3 [==============================] - 0s 33ms/step - loss: 0.0643 - mean_squared_error: 0.0643 - val_loss: 0.0795 - val_mean_squared_error: 0.0795\n",
            "Epoch 58/250\n",
            "3/3 [==============================] - 0s 31ms/step - loss: 0.0607 - mean_squared_error: 0.0607 - val_loss: 0.0794 - val_mean_squared_error: 0.0794\n",
            "Epoch 59/250\n",
            "3/3 [==============================] - 0s 35ms/step - loss: 0.0616 - mean_squared_error: 0.0616 - val_loss: 0.0796 - val_mean_squared_error: 0.0796\n",
            "Epoch 60/250\n",
            "3/3 [==============================] - 0s 41ms/step - loss: 0.0586 - mean_squared_error: 0.0586 - val_loss: 0.0798 - val_mean_squared_error: 0.0798\n",
            "Epoch 61/250\n",
            "3/3 [==============================] - 0s 31ms/step - loss: 0.0603 - mean_squared_error: 0.0603 - val_loss: 0.0792 - val_mean_squared_error: 0.0792\n",
            "Epoch 62/250\n",
            "3/3 [==============================] - 0s 33ms/step - loss: 0.0603 - mean_squared_error: 0.0603 - val_loss: 0.0792 - val_mean_squared_error: 0.0792\n",
            "Epoch 63/250\n",
            "3/3 [==============================] - 0s 34ms/step - loss: 0.0594 - mean_squared_error: 0.0594 - val_loss: 0.0795 - val_mean_squared_error: 0.0795\n",
            "Epoch 64/250\n",
            "3/3 [==============================] - 0s 32ms/step - loss: 0.0604 - mean_squared_error: 0.0604 - val_loss: 0.0797 - val_mean_squared_error: 0.0797\n",
            "Epoch 65/250\n",
            "3/3 [==============================] - 0s 31ms/step - loss: 0.0621 - mean_squared_error: 0.0621 - val_loss: 0.0797 - val_mean_squared_error: 0.0797\n",
            "Epoch 66/250\n",
            "3/3 [==============================] - 0s 32ms/step - loss: 0.0606 - mean_squared_error: 0.0606 - val_loss: 0.0791 - val_mean_squared_error: 0.0791\n",
            "Epoch 67/250\n",
            "3/3 [==============================] - 0s 34ms/step - loss: 0.0607 - mean_squared_error: 0.0607 - val_loss: 0.0789 - val_mean_squared_error: 0.0789\n",
            "Epoch 68/250\n",
            "3/3 [==============================] - 0s 32ms/step - loss: 0.0616 - mean_squared_error: 0.0616 - val_loss: 0.0792 - val_mean_squared_error: 0.0792\n",
            "Epoch 69/250\n",
            "3/3 [==============================] - 0s 32ms/step - loss: 0.0618 - mean_squared_error: 0.0618 - val_loss: 0.0794 - val_mean_squared_error: 0.0794\n",
            "Epoch 70/250\n",
            "3/3 [==============================] - 0s 31ms/step - loss: 0.0624 - mean_squared_error: 0.0624 - val_loss: 0.0797 - val_mean_squared_error: 0.0797\n",
            "Epoch 71/250\n",
            "3/3 [==============================] - 0s 35ms/step - loss: 0.0590 - mean_squared_error: 0.0590 - val_loss: 0.0797 - val_mean_squared_error: 0.0797\n",
            "Epoch 72/250\n",
            "3/3 [==============================] - 0s 32ms/step - loss: 0.0614 - mean_squared_error: 0.0614 - val_loss: 0.0798 - val_mean_squared_error: 0.0798\n",
            "Epoch 73/250\n",
            "3/3 [==============================] - 0s 32ms/step - loss: 0.0604 - mean_squared_error: 0.0604 - val_loss: 0.0792 - val_mean_squared_error: 0.0792\n",
            "Epoch 74/250\n",
            "3/3 [==============================] - 0s 32ms/step - loss: 0.0582 - mean_squared_error: 0.0582 - val_loss: 0.0788 - val_mean_squared_error: 0.0788\n",
            "Epoch 75/250\n",
            "3/3 [==============================] - 0s 35ms/step - loss: 0.0613 - mean_squared_error: 0.0613 - val_loss: 0.0792 - val_mean_squared_error: 0.0792\n",
            "Epoch 76/250\n",
            "3/3 [==============================] - 0s 33ms/step - loss: 0.0602 - mean_squared_error: 0.0602 - val_loss: 0.0801 - val_mean_squared_error: 0.0801\n",
            "Epoch 77/250\n",
            "3/3 [==============================] - 0s 34ms/step - loss: 0.0591 - mean_squared_error: 0.0591 - val_loss: 0.0800 - val_mean_squared_error: 0.0800\n",
            "Epoch 78/250\n",
            "3/3 [==============================] - 0s 33ms/step - loss: 0.0620 - mean_squared_error: 0.0620 - val_loss: 0.0799 - val_mean_squared_error: 0.0799\n",
            "Epoch 79/250\n",
            "3/3 [==============================] - 0s 31ms/step - loss: 0.0613 - mean_squared_error: 0.0613 - val_loss: 0.0796 - val_mean_squared_error: 0.0796\n",
            "Epoch 80/250\n",
            "3/3 [==============================] - 0s 33ms/step - loss: 0.0614 - mean_squared_error: 0.0614 - val_loss: 0.0787 - val_mean_squared_error: 0.0787\n",
            "Epoch 81/250\n",
            "3/3 [==============================] - 0s 31ms/step - loss: 0.0612 - mean_squared_error: 0.0612 - val_loss: 0.0787 - val_mean_squared_error: 0.0787\n",
            "Epoch 82/250\n",
            "3/3 [==============================] - 0s 32ms/step - loss: 0.0616 - mean_squared_error: 0.0616 - val_loss: 0.0788 - val_mean_squared_error: 0.0788\n",
            "Epoch 83/250\n",
            "3/3 [==============================] - 0s 31ms/step - loss: 0.0613 - mean_squared_error: 0.0613 - val_loss: 0.0799 - val_mean_squared_error: 0.0799\n",
            "Epoch 84/250\n",
            "3/3 [==============================] - 0s 33ms/step - loss: 0.0595 - mean_squared_error: 0.0595 - val_loss: 0.0808 - val_mean_squared_error: 0.0808\n",
            "Epoch 85/250\n",
            "3/3 [==============================] - 0s 31ms/step - loss: 0.0614 - mean_squared_error: 0.0614 - val_loss: 0.0800 - val_mean_squared_error: 0.0800\n",
            "Epoch 86/250\n",
            "3/3 [==============================] - 0s 31ms/step - loss: 0.0633 - mean_squared_error: 0.0633 - val_loss: 0.0790 - val_mean_squared_error: 0.0790\n",
            "Epoch 87/250\n",
            "3/3 [==============================] - 0s 32ms/step - loss: 0.0598 - mean_squared_error: 0.0598 - val_loss: 0.0787 - val_mean_squared_error: 0.0787\n",
            "Epoch 88/250\n",
            "3/3 [==============================] - 0s 31ms/step - loss: 0.0598 - mean_squared_error: 0.0598 - val_loss: 0.0789 - val_mean_squared_error: 0.0789\n",
            "Epoch 89/250\n",
            "3/3 [==============================] - 0s 31ms/step - loss: 0.0603 - mean_squared_error: 0.0603 - val_loss: 0.0794 - val_mean_squared_error: 0.0794\n",
            "Epoch 90/250\n",
            "3/3 [==============================] - 0s 32ms/step - loss: 0.0596 - mean_squared_error: 0.0596 - val_loss: 0.0799 - val_mean_squared_error: 0.0799\n",
            "Epoch 91/250\n",
            "3/3 [==============================] - 0s 32ms/step - loss: 0.0589 - mean_squared_error: 0.0589 - val_loss: 0.0797 - val_mean_squared_error: 0.0797\n",
            "Epoch 92/250\n",
            "3/3 [==============================] - 0s 31ms/step - loss: 0.0604 - mean_squared_error: 0.0604 - val_loss: 0.0793 - val_mean_squared_error: 0.0793\n",
            "Epoch 93/250\n",
            "3/3 [==============================] - 0s 31ms/step - loss: 0.0605 - mean_squared_error: 0.0605 - val_loss: 0.0791 - val_mean_squared_error: 0.0791\n",
            "Epoch 94/250\n",
            "3/3 [==============================] - 0s 34ms/step - loss: 0.0600 - mean_squared_error: 0.0600 - val_loss: 0.0786 - val_mean_squared_error: 0.0786\n",
            "Epoch 95/250\n",
            "3/3 [==============================] - 0s 32ms/step - loss: 0.0600 - mean_squared_error: 0.0600 - val_loss: 0.0789 - val_mean_squared_error: 0.0789\n",
            "Epoch 96/250\n",
            "3/3 [==============================] - 0s 34ms/step - loss: 0.0600 - mean_squared_error: 0.0600 - val_loss: 0.0795 - val_mean_squared_error: 0.0795\n",
            "Epoch 97/250\n",
            "3/3 [==============================] - 0s 34ms/step - loss: 0.0598 - mean_squared_error: 0.0598 - val_loss: 0.0801 - val_mean_squared_error: 0.0801\n",
            "Epoch 98/250\n",
            "3/3 [==============================] - 0s 33ms/step - loss: 0.0617 - mean_squared_error: 0.0617 - val_loss: 0.0799 - val_mean_squared_error: 0.0799\n",
            "Epoch 99/250\n",
            "3/3 [==============================] - 0s 34ms/step - loss: 0.0604 - mean_squared_error: 0.0604 - val_loss: 0.0794 - val_mean_squared_error: 0.0794\n",
            "Epoch 100/250\n",
            "3/3 [==============================] - 0s 32ms/step - loss: 0.0598 - mean_squared_error: 0.0598 - val_loss: 0.0795 - val_mean_squared_error: 0.0795\n",
            "Epoch 101/250\n",
            "3/3 [==============================] - 0s 33ms/step - loss: 0.0606 - mean_squared_error: 0.0606 - val_loss: 0.0795 - val_mean_squared_error: 0.0795\n",
            "Epoch 102/250\n",
            "3/3 [==============================] - 0s 32ms/step - loss: 0.0588 - mean_squared_error: 0.0588 - val_loss: 0.0794 - val_mean_squared_error: 0.0794\n",
            "Epoch 103/250\n",
            "3/3 [==============================] - 0s 44ms/step - loss: 0.0594 - mean_squared_error: 0.0594 - val_loss: 0.0792 - val_mean_squared_error: 0.0792\n",
            "Epoch 104/250\n",
            "3/3 [==============================] - 0s 32ms/step - loss: 0.0595 - mean_squared_error: 0.0595 - val_loss: 0.0792 - val_mean_squared_error: 0.0792\n",
            "Epoch 105/250\n",
            "3/3 [==============================] - 0s 32ms/step - loss: 0.0604 - mean_squared_error: 0.0604 - val_loss: 0.0792 - val_mean_squared_error: 0.0792\n",
            "Epoch 106/250\n",
            "3/3 [==============================] - 0s 31ms/step - loss: 0.0612 - mean_squared_error: 0.0612 - val_loss: 0.0792 - val_mean_squared_error: 0.0792\n",
            "Epoch 107/250\n",
            "3/3 [==============================] - 0s 31ms/step - loss: 0.0600 - mean_squared_error: 0.0600 - val_loss: 0.0788 - val_mean_squared_error: 0.0788\n",
            "Epoch 108/250\n",
            "3/3 [==============================] - 0s 35ms/step - loss: 0.0603 - mean_squared_error: 0.0603 - val_loss: 0.0795 - val_mean_squared_error: 0.0795\n",
            "Epoch 109/250\n",
            "3/3 [==============================] - 0s 36ms/step - loss: 0.0586 - mean_squared_error: 0.0586 - val_loss: 0.0799 - val_mean_squared_error: 0.0799\n",
            "Epoch 110/250\n",
            "3/3 [==============================] - 0s 36ms/step - loss: 0.0606 - mean_squared_error: 0.0606 - val_loss: 0.0798 - val_mean_squared_error: 0.0798\n",
            "Epoch 111/250\n",
            "3/3 [==============================] - 0s 33ms/step - loss: 0.0603 - mean_squared_error: 0.0603 - val_loss: 0.0795 - val_mean_squared_error: 0.0795\n",
            "Epoch 112/250\n",
            "3/3 [==============================] - 0s 32ms/step - loss: 0.0609 - mean_squared_error: 0.0609 - val_loss: 0.0794 - val_mean_squared_error: 0.0794\n",
            "Epoch 113/250\n",
            "3/3 [==============================] - 0s 38ms/step - loss: 0.0603 - mean_squared_error: 0.0603 - val_loss: 0.0790 - val_mean_squared_error: 0.0790\n",
            "Epoch 114/250\n",
            "3/3 [==============================] - 0s 32ms/step - loss: 0.0608 - mean_squared_error: 0.0608 - val_loss: 0.0791 - val_mean_squared_error: 0.0791\n",
            "Epoch 115/250\n",
            "3/3 [==============================] - 0s 31ms/step - loss: 0.0588 - mean_squared_error: 0.0588 - val_loss: 0.0793 - val_mean_squared_error: 0.0793\n",
            "Epoch 116/250\n",
            "3/3 [==============================] - 0s 31ms/step - loss: 0.0604 - mean_squared_error: 0.0604 - val_loss: 0.0796 - val_mean_squared_error: 0.0796\n",
            "Epoch 117/250\n",
            "3/3 [==============================] - 0s 31ms/step - loss: 0.0604 - mean_squared_error: 0.0604 - val_loss: 0.0801 - val_mean_squared_error: 0.0801\n",
            "Epoch 118/250\n",
            "3/3 [==============================] - 0s 37ms/step - loss: 0.0593 - mean_squared_error: 0.0593 - val_loss: 0.0799 - val_mean_squared_error: 0.0799\n",
            "Epoch 119/250\n",
            "3/3 [==============================] - 0s 32ms/step - loss: 0.0603 - mean_squared_error: 0.0603 - val_loss: 0.0792 - val_mean_squared_error: 0.0792\n",
            "Epoch 120/250\n",
            "3/3 [==============================] - 0s 31ms/step - loss: 0.0596 - mean_squared_error: 0.0596 - val_loss: 0.0788 - val_mean_squared_error: 0.0788\n",
            "Epoch 121/250\n",
            "3/3 [==============================] - 0s 33ms/step - loss: 0.0612 - mean_squared_error: 0.0612 - val_loss: 0.0788 - val_mean_squared_error: 0.0788\n",
            "Epoch 122/250\n",
            "3/3 [==============================] - 0s 32ms/step - loss: 0.0583 - mean_squared_error: 0.0583 - val_loss: 0.0792 - val_mean_squared_error: 0.0792\n",
            "Epoch 123/250\n",
            "3/3 [==============================] - 0s 32ms/step - loss: 0.0610 - mean_squared_error: 0.0610 - val_loss: 0.0795 - val_mean_squared_error: 0.0795\n",
            "Epoch 124/250\n",
            "3/3 [==============================] - 0s 36ms/step - loss: 0.0618 - mean_squared_error: 0.0618 - val_loss: 0.0795 - val_mean_squared_error: 0.0795\n",
            "Epoch 125/250\n",
            "3/3 [==============================] - 0s 35ms/step - loss: 0.0605 - mean_squared_error: 0.0605 - val_loss: 0.0799 - val_mean_squared_error: 0.0799\n",
            "Epoch 126/250\n",
            "3/3 [==============================] - 0s 32ms/step - loss: 0.0592 - mean_squared_error: 0.0592 - val_loss: 0.0797 - val_mean_squared_error: 0.0797\n",
            "Epoch 127/250\n",
            "3/3 [==============================] - 0s 33ms/step - loss: 0.0593 - mean_squared_error: 0.0593 - val_loss: 0.0793 - val_mean_squared_error: 0.0793\n",
            "Epoch 128/250\n",
            "3/3 [==============================] - 0s 35ms/step - loss: 0.0614 - mean_squared_error: 0.0614 - val_loss: 0.0787 - val_mean_squared_error: 0.0787\n",
            "Epoch 129/250\n",
            "3/3 [==============================] - 0s 33ms/step - loss: 0.0603 - mean_squared_error: 0.0603 - val_loss: 0.0790 - val_mean_squared_error: 0.0790\n",
            "Epoch 130/250\n",
            "3/3 [==============================] - 0s 31ms/step - loss: 0.0612 - mean_squared_error: 0.0612 - val_loss: 0.0799 - val_mean_squared_error: 0.0799\n",
            "Epoch 131/250\n",
            "3/3 [==============================] - 0s 34ms/step - loss: 0.0604 - mean_squared_error: 0.0604 - val_loss: 0.0799 - val_mean_squared_error: 0.0799\n",
            "Epoch 132/250\n",
            "3/3 [==============================] - 0s 31ms/step - loss: 0.0612 - mean_squared_error: 0.0612 - val_loss: 0.0798 - val_mean_squared_error: 0.0798\n",
            "Epoch 133/250\n",
            "3/3 [==============================] - 0s 31ms/step - loss: 0.0607 - mean_squared_error: 0.0607 - val_loss: 0.0799 - val_mean_squared_error: 0.0799\n",
            "Epoch 134/250\n",
            "3/3 [==============================] - 0s 32ms/step - loss: 0.0600 - mean_squared_error: 0.0600 - val_loss: 0.0795 - val_mean_squared_error: 0.0795\n",
            "Epoch 135/250\n",
            "3/3 [==============================] - 0s 32ms/step - loss: 0.0606 - mean_squared_error: 0.0606 - val_loss: 0.0790 - val_mean_squared_error: 0.0790\n",
            "Epoch 136/250\n",
            "3/3 [==============================] - 0s 31ms/step - loss: 0.0611 - mean_squared_error: 0.0611 - val_loss: 0.0790 - val_mean_squared_error: 0.0790\n",
            "Epoch 137/250\n",
            "3/3 [==============================] - 0s 35ms/step - loss: 0.0600 - mean_squared_error: 0.0600 - val_loss: 0.0793 - val_mean_squared_error: 0.0793\n",
            "Epoch 138/250\n",
            "3/3 [==============================] - 0s 35ms/step - loss: 0.0597 - mean_squared_error: 0.0597 - val_loss: 0.0796 - val_mean_squared_error: 0.0796\n",
            "Epoch 139/250\n",
            "3/3 [==============================] - 0s 32ms/step - loss: 0.0614 - mean_squared_error: 0.0614 - val_loss: 0.0797 - val_mean_squared_error: 0.0797\n",
            "Epoch 140/250\n",
            "3/3 [==============================] - 0s 33ms/step - loss: 0.0590 - mean_squared_error: 0.0590 - val_loss: 0.0793 - val_mean_squared_error: 0.0793\n",
            "Epoch 141/250\n",
            "3/3 [==============================] - 0s 32ms/step - loss: 0.0614 - mean_squared_error: 0.0614 - val_loss: 0.0793 - val_mean_squared_error: 0.0793\n",
            "Epoch 142/250\n",
            "3/3 [==============================] - 0s 32ms/step - loss: 0.0613 - mean_squared_error: 0.0613 - val_loss: 0.0793 - val_mean_squared_error: 0.0793\n",
            "Epoch 143/250\n",
            "3/3 [==============================] - 0s 31ms/step - loss: 0.0583 - mean_squared_error: 0.0583 - val_loss: 0.0794 - val_mean_squared_error: 0.0794\n",
            "Epoch 144/250\n",
            "3/3 [==============================] - 0s 32ms/step - loss: 0.0603 - mean_squared_error: 0.0603 - val_loss: 0.0797 - val_mean_squared_error: 0.0797\n",
            "Epoch 145/250\n",
            "3/3 [==============================] - 0s 42ms/step - loss: 0.0590 - mean_squared_error: 0.0590 - val_loss: 0.0796 - val_mean_squared_error: 0.0796\n",
            "Epoch 146/250\n",
            "3/3 [==============================] - 0s 33ms/step - loss: 0.0599 - mean_squared_error: 0.0599 - val_loss: 0.0794 - val_mean_squared_error: 0.0794\n",
            "Epoch 147/250\n",
            "3/3 [==============================] - 0s 35ms/step - loss: 0.0598 - mean_squared_error: 0.0598 - val_loss: 0.0796 - val_mean_squared_error: 0.0796\n",
            "Epoch 148/250\n",
            "3/3 [==============================] - 0s 32ms/step - loss: 0.0603 - mean_squared_error: 0.0603 - val_loss: 0.0791 - val_mean_squared_error: 0.0791\n",
            "Epoch 149/250\n",
            "3/3 [==============================] - 0s 34ms/step - loss: 0.0603 - mean_squared_error: 0.0603 - val_loss: 0.0794 - val_mean_squared_error: 0.0794\n",
            "Epoch 150/250\n",
            "3/3 [==============================] - 0s 32ms/step - loss: 0.0599 - mean_squared_error: 0.0599 - val_loss: 0.0797 - val_mean_squared_error: 0.0797\n",
            "Epoch 151/250\n",
            "3/3 [==============================] - 0s 35ms/step - loss: 0.0597 - mean_squared_error: 0.0597 - val_loss: 0.0797 - val_mean_squared_error: 0.0797\n",
            "Epoch 152/250\n",
            "3/3 [==============================] - 0s 34ms/step - loss: 0.0602 - mean_squared_error: 0.0602 - val_loss: 0.0798 - val_mean_squared_error: 0.0798\n",
            "Epoch 153/250\n",
            "3/3 [==============================] - 0s 36ms/step - loss: 0.0611 - mean_squared_error: 0.0611 - val_loss: 0.0794 - val_mean_squared_error: 0.0794\n",
            "Epoch 154/250\n",
            "3/3 [==============================] - 0s 30ms/step - loss: 0.0601 - mean_squared_error: 0.0601 - val_loss: 0.0794 - val_mean_squared_error: 0.0794\n",
            "Epoch 155/250\n",
            "3/3 [==============================] - 0s 31ms/step - loss: 0.0606 - mean_squared_error: 0.0606 - val_loss: 0.0793 - val_mean_squared_error: 0.0793\n",
            "Epoch 156/250\n",
            "3/3 [==============================] - 0s 31ms/step - loss: 0.0605 - mean_squared_error: 0.0605 - val_loss: 0.0794 - val_mean_squared_error: 0.0794\n",
            "Epoch 157/250\n",
            "3/3 [==============================] - 0s 33ms/step - loss: 0.0599 - mean_squared_error: 0.0599 - val_loss: 0.0791 - val_mean_squared_error: 0.0791\n",
            "Epoch 158/250\n",
            "3/3 [==============================] - 0s 33ms/step - loss: 0.0584 - mean_squared_error: 0.0584 - val_loss: 0.0792 - val_mean_squared_error: 0.0792\n",
            "Epoch 159/250\n",
            "3/3 [==============================] - 0s 35ms/step - loss: 0.0583 - mean_squared_error: 0.0583 - val_loss: 0.0793 - val_mean_squared_error: 0.0793\n",
            "Epoch 160/250\n",
            "3/3 [==============================] - 0s 31ms/step - loss: 0.0593 - mean_squared_error: 0.0593 - val_loss: 0.0790 - val_mean_squared_error: 0.0790\n",
            "Epoch 161/250\n",
            "3/3 [==============================] - 0s 31ms/step - loss: 0.0606 - mean_squared_error: 0.0606 - val_loss: 0.0793 - val_mean_squared_error: 0.0793\n",
            "Epoch 162/250\n",
            "3/3 [==============================] - 0s 33ms/step - loss: 0.0597 - mean_squared_error: 0.0597 - val_loss: 0.0796 - val_mean_squared_error: 0.0796\n",
            "Epoch 163/250\n",
            "3/3 [==============================] - 0s 35ms/step - loss: 0.0605 - mean_squared_error: 0.0605 - val_loss: 0.0797 - val_mean_squared_error: 0.0797\n",
            "Epoch 164/250\n",
            "3/3 [==============================] - 0s 34ms/step - loss: 0.0599 - mean_squared_error: 0.0599 - val_loss: 0.0795 - val_mean_squared_error: 0.0795\n",
            "Epoch 165/250\n",
            "3/3 [==============================] - 0s 34ms/step - loss: 0.0613 - mean_squared_error: 0.0613 - val_loss: 0.0794 - val_mean_squared_error: 0.0794\n",
            "Epoch 166/250\n",
            "3/3 [==============================] - 0s 42ms/step - loss: 0.0599 - mean_squared_error: 0.0599 - val_loss: 0.0791 - val_mean_squared_error: 0.0791\n",
            "Epoch 167/250\n",
            "3/3 [==============================] - 0s 32ms/step - loss: 0.0592 - mean_squared_error: 0.0592 - val_loss: 0.0794 - val_mean_squared_error: 0.0794\n",
            "Epoch 168/250\n",
            "3/3 [==============================] - 0s 33ms/step - loss: 0.0594 - mean_squared_error: 0.0594 - val_loss: 0.0793 - val_mean_squared_error: 0.0793\n",
            "Epoch 169/250\n",
            "3/3 [==============================] - 0s 35ms/step - loss: 0.0610 - mean_squared_error: 0.0610 - val_loss: 0.0793 - val_mean_squared_error: 0.0793\n",
            "Epoch 170/250\n",
            "3/3 [==============================] - 0s 34ms/step - loss: 0.0596 - mean_squared_error: 0.0596 - val_loss: 0.0792 - val_mean_squared_error: 0.0792\n",
            "Epoch 171/250\n",
            "3/3 [==============================] - 0s 33ms/step - loss: 0.0597 - mean_squared_error: 0.0597 - val_loss: 0.0793 - val_mean_squared_error: 0.0793\n",
            "Epoch 172/250\n",
            "3/3 [==============================] - 0s 33ms/step - loss: 0.0602 - mean_squared_error: 0.0602 - val_loss: 0.0792 - val_mean_squared_error: 0.0792\n",
            "Epoch 173/250\n",
            "3/3 [==============================] - 0s 34ms/step - loss: 0.0610 - mean_squared_error: 0.0610 - val_loss: 0.0791 - val_mean_squared_error: 0.0791\n",
            "Epoch 174/250\n",
            "3/3 [==============================] - 0s 32ms/step - loss: 0.0614 - mean_squared_error: 0.0614 - val_loss: 0.0791 - val_mean_squared_error: 0.0791\n",
            "Epoch 175/250\n",
            "3/3 [==============================] - 0s 33ms/step - loss: 0.0607 - mean_squared_error: 0.0607 - val_loss: 0.0795 - val_mean_squared_error: 0.0795\n",
            "Epoch 176/250\n",
            "3/3 [==============================] - 0s 35ms/step - loss: 0.0595 - mean_squared_error: 0.0595 - val_loss: 0.0795 - val_mean_squared_error: 0.0795\n",
            "Epoch 177/250\n",
            "3/3 [==============================] - 0s 34ms/step - loss: 0.0608 - mean_squared_error: 0.0608 - val_loss: 0.0793 - val_mean_squared_error: 0.0793\n",
            "Epoch 178/250\n",
            "3/3 [==============================] - 0s 32ms/step - loss: 0.0600 - mean_squared_error: 0.0600 - val_loss: 0.0793 - val_mean_squared_error: 0.0793\n",
            "Epoch 179/250\n",
            "3/3 [==============================] - 0s 33ms/step - loss: 0.0609 - mean_squared_error: 0.0609 - val_loss: 0.0797 - val_mean_squared_error: 0.0797\n",
            "Epoch 180/250\n",
            "3/3 [==============================] - 0s 32ms/step - loss: 0.0594 - mean_squared_error: 0.0594 - val_loss: 0.0797 - val_mean_squared_error: 0.0797\n",
            "Epoch 181/250\n",
            "3/3 [==============================] - 0s 31ms/step - loss: 0.0606 - mean_squared_error: 0.0606 - val_loss: 0.0794 - val_mean_squared_error: 0.0794\n",
            "Epoch 182/250\n",
            "3/3 [==============================] - 0s 33ms/step - loss: 0.0586 - mean_squared_error: 0.0586 - val_loss: 0.0794 - val_mean_squared_error: 0.0794\n",
            "Epoch 183/250\n",
            "3/3 [==============================] - 0s 34ms/step - loss: 0.0602 - mean_squared_error: 0.0602 - val_loss: 0.0792 - val_mean_squared_error: 0.0792\n",
            "Epoch 184/250\n",
            "3/3 [==============================] - 0s 31ms/step - loss: 0.0606 - mean_squared_error: 0.0606 - val_loss: 0.0791 - val_mean_squared_error: 0.0791\n",
            "Epoch 185/250\n",
            "3/3 [==============================] - 0s 31ms/step - loss: 0.0615 - mean_squared_error: 0.0615 - val_loss: 0.0793 - val_mean_squared_error: 0.0793\n",
            "Epoch 186/250\n",
            "3/3 [==============================] - 0s 31ms/step - loss: 0.0614 - mean_squared_error: 0.0614 - val_loss: 0.0796 - val_mean_squared_error: 0.0796\n",
            "Epoch 187/250\n",
            "3/3 [==============================] - 0s 36ms/step - loss: 0.0594 - mean_squared_error: 0.0594 - val_loss: 0.0796 - val_mean_squared_error: 0.0796\n",
            "Epoch 188/250\n",
            "3/3 [==============================] - 0s 31ms/step - loss: 0.0596 - mean_squared_error: 0.0596 - val_loss: 0.0797 - val_mean_squared_error: 0.0797\n",
            "Epoch 189/250\n",
            "3/3 [==============================] - 0s 32ms/step - loss: 0.0603 - mean_squared_error: 0.0603 - val_loss: 0.0793 - val_mean_squared_error: 0.0793\n",
            "Epoch 190/250\n",
            "3/3 [==============================] - 0s 34ms/step - loss: 0.0590 - mean_squared_error: 0.0590 - val_loss: 0.0792 - val_mean_squared_error: 0.0792\n",
            "Epoch 191/250\n",
            "3/3 [==============================] - 0s 31ms/step - loss: 0.0598 - mean_squared_error: 0.0598 - val_loss: 0.0792 - val_mean_squared_error: 0.0792\n",
            "Epoch 192/250\n",
            "3/3 [==============================] - 0s 31ms/step - loss: 0.0598 - mean_squared_error: 0.0598 - val_loss: 0.0793 - val_mean_squared_error: 0.0793\n",
            "Epoch 193/250\n",
            "3/3 [==============================] - 0s 33ms/step - loss: 0.0596 - mean_squared_error: 0.0596 - val_loss: 0.0792 - val_mean_squared_error: 0.0792\n",
            "Epoch 194/250\n",
            "3/3 [==============================] - 0s 31ms/step - loss: 0.0587 - mean_squared_error: 0.0587 - val_loss: 0.0793 - val_mean_squared_error: 0.0793\n",
            "Epoch 195/250\n",
            "3/3 [==============================] - 0s 42ms/step - loss: 0.0604 - mean_squared_error: 0.0604 - val_loss: 0.0793 - val_mean_squared_error: 0.0793\n",
            "Epoch 196/250\n",
            "3/3 [==============================] - 0s 34ms/step - loss: 0.0593 - mean_squared_error: 0.0593 - val_loss: 0.0793 - val_mean_squared_error: 0.0793\n",
            "Epoch 197/250\n",
            "3/3 [==============================] - 0s 36ms/step - loss: 0.0598 - mean_squared_error: 0.0598 - val_loss: 0.0790 - val_mean_squared_error: 0.0790\n",
            "Epoch 198/250\n",
            "3/3 [==============================] - 0s 31ms/step - loss: 0.0597 - mean_squared_error: 0.0597 - val_loss: 0.0789 - val_mean_squared_error: 0.0789\n",
            "Epoch 199/250\n",
            "3/3 [==============================] - 0s 34ms/step - loss: 0.0603 - mean_squared_error: 0.0603 - val_loss: 0.0788 - val_mean_squared_error: 0.0788\n",
            "Epoch 200/250\n",
            "3/3 [==============================] - 0s 33ms/step - loss: 0.0596 - mean_squared_error: 0.0596 - val_loss: 0.0792 - val_mean_squared_error: 0.0792\n",
            "Epoch 201/250\n",
            "3/3 [==============================] - 0s 33ms/step - loss: 0.0598 - mean_squared_error: 0.0598 - val_loss: 0.0794 - val_mean_squared_error: 0.0794\n",
            "Epoch 202/250\n",
            "3/3 [==============================] - 0s 32ms/step - loss: 0.0600 - mean_squared_error: 0.0600 - val_loss: 0.0798 - val_mean_squared_error: 0.0798\n",
            "Epoch 203/250\n",
            "3/3 [==============================] - 0s 33ms/step - loss: 0.0587 - mean_squared_error: 0.0587 - val_loss: 0.0796 - val_mean_squared_error: 0.0796\n",
            "Epoch 204/250\n",
            "3/3 [==============================] - 0s 33ms/step - loss: 0.0598 - mean_squared_error: 0.0598 - val_loss: 0.0792 - val_mean_squared_error: 0.0792\n",
            "Epoch 205/250\n",
            "3/3 [==============================] - 0s 33ms/step - loss: 0.0604 - mean_squared_error: 0.0604 - val_loss: 0.0792 - val_mean_squared_error: 0.0792\n",
            "Epoch 206/250\n",
            "3/3 [==============================] - 0s 35ms/step - loss: 0.0594 - mean_squared_error: 0.0594 - val_loss: 0.0787 - val_mean_squared_error: 0.0787\n",
            "Epoch 207/250\n",
            "3/3 [==============================] - 0s 34ms/step - loss: 0.0591 - mean_squared_error: 0.0591 - val_loss: 0.0781 - val_mean_squared_error: 0.0781\n",
            "Epoch 208/250\n",
            "3/3 [==============================] - 0s 33ms/step - loss: 0.0596 - mean_squared_error: 0.0596 - val_loss: 0.0779 - val_mean_squared_error: 0.0779\n",
            "Epoch 209/250\n",
            "3/3 [==============================] - 0s 32ms/step - loss: 0.0597 - mean_squared_error: 0.0597 - val_loss: 0.0780 - val_mean_squared_error: 0.0780\n",
            "Epoch 210/250\n",
            "3/3 [==============================] - 0s 37ms/step - loss: 0.0592 - mean_squared_error: 0.0592 - val_loss: 0.0782 - val_mean_squared_error: 0.0782\n",
            "Epoch 211/250\n",
            "3/3 [==============================] - 0s 32ms/step - loss: 0.0592 - mean_squared_error: 0.0592 - val_loss: 0.0777 - val_mean_squared_error: 0.0777\n",
            "Epoch 212/250\n",
            "3/3 [==============================] - 0s 33ms/step - loss: 0.0593 - mean_squared_error: 0.0593 - val_loss: 0.0768 - val_mean_squared_error: 0.0768\n",
            "Epoch 213/250\n",
            "3/3 [==============================] - 0s 32ms/step - loss: 0.0586 - mean_squared_error: 0.0586 - val_loss: 0.0758 - val_mean_squared_error: 0.0758\n",
            "Epoch 214/250\n",
            "3/3 [==============================] - 0s 32ms/step - loss: 0.0571 - mean_squared_error: 0.0571 - val_loss: 0.0744 - val_mean_squared_error: 0.0744\n",
            "Epoch 215/250\n",
            "3/3 [==============================] - 0s 33ms/step - loss: 0.0559 - mean_squared_error: 0.0559 - val_loss: 0.0728 - val_mean_squared_error: 0.0728\n",
            "Epoch 216/250\n",
            "3/3 [==============================] - 0s 32ms/step - loss: 0.0537 - mean_squared_error: 0.0537 - val_loss: 0.0696 - val_mean_squared_error: 0.0696\n",
            "Epoch 217/250\n",
            "3/3 [==============================] - 0s 33ms/step - loss: 0.0516 - mean_squared_error: 0.0516 - val_loss: 0.0645 - val_mean_squared_error: 0.0645\n",
            "Epoch 218/250\n",
            "3/3 [==============================] - 0s 36ms/step - loss: 0.0490 - mean_squared_error: 0.0490 - val_loss: 0.0575 - val_mean_squared_error: 0.0575\n",
            "Epoch 219/250\n",
            "3/3 [==============================] - 0s 32ms/step - loss: 0.0406 - mean_squared_error: 0.0406 - val_loss: 0.0482 - val_mean_squared_error: 0.0482\n",
            "Epoch 220/250\n",
            "3/3 [==============================] - 0s 33ms/step - loss: 0.0341 - mean_squared_error: 0.0341 - val_loss: 0.0370 - val_mean_squared_error: 0.0370\n",
            "Epoch 221/250\n",
            "3/3 [==============================] - 0s 34ms/step - loss: 0.0263 - mean_squared_error: 0.0263 - val_loss: 0.0255 - val_mean_squared_error: 0.0255\n",
            "Epoch 222/250\n",
            "3/3 [==============================] - 0s 31ms/step - loss: 0.0189 - mean_squared_error: 0.0189 - val_loss: 0.0166 - val_mean_squared_error: 0.0166\n",
            "Epoch 223/250\n",
            "3/3 [==============================] - 0s 32ms/step - loss: 0.0115 - mean_squared_error: 0.0115 - val_loss: 0.0115 - val_mean_squared_error: 0.0115\n",
            "Epoch 224/250\n",
            "3/3 [==============================] - 0s 41ms/step - loss: 0.0120 - mean_squared_error: 0.0120 - val_loss: 0.0102 - val_mean_squared_error: 0.0102\n",
            "Epoch 225/250\n",
            "3/3 [==============================] - 0s 33ms/step - loss: 0.0132 - mean_squared_error: 0.0132 - val_loss: 0.0121 - val_mean_squared_error: 0.0121\n",
            "Epoch 226/250\n",
            "3/3 [==============================] - 0s 36ms/step - loss: 0.0125 - mean_squared_error: 0.0125 - val_loss: 0.0114 - val_mean_squared_error: 0.0114\n",
            "Epoch 227/250\n",
            "3/3 [==============================] - 0s 31ms/step - loss: 0.0144 - mean_squared_error: 0.0144 - val_loss: 0.0104 - val_mean_squared_error: 0.0104\n",
            "Epoch 228/250\n",
            "3/3 [==============================] - 0s 36ms/step - loss: 0.0134 - mean_squared_error: 0.0134 - val_loss: 0.0104 - val_mean_squared_error: 0.0104\n",
            "Epoch 229/250\n",
            "3/3 [==============================] - 0s 32ms/step - loss: 0.0106 - mean_squared_error: 0.0106 - val_loss: 0.0111 - val_mean_squared_error: 0.0111\n",
            "Epoch 230/250\n",
            "3/3 [==============================] - 0s 33ms/step - loss: 0.0098 - mean_squared_error: 0.0098 - val_loss: 0.0110 - val_mean_squared_error: 0.0110\n",
            "Epoch 231/250\n",
            "3/3 [==============================] - 0s 32ms/step - loss: 0.0104 - mean_squared_error: 0.0104 - val_loss: 0.0114 - val_mean_squared_error: 0.0114\n",
            "Epoch 232/250\n",
            "3/3 [==============================] - 0s 35ms/step - loss: 0.0101 - mean_squared_error: 0.0101 - val_loss: 0.0105 - val_mean_squared_error: 0.0105\n",
            "Epoch 233/250\n",
            "3/3 [==============================] - 0s 33ms/step - loss: 0.0111 - mean_squared_error: 0.0111 - val_loss: 0.0098 - val_mean_squared_error: 0.0098\n",
            "Epoch 234/250\n",
            "3/3 [==============================] - 0s 35ms/step - loss: 0.0096 - mean_squared_error: 0.0096 - val_loss: 0.0090 - val_mean_squared_error: 0.0090\n",
            "Epoch 235/250\n",
            "3/3 [==============================] - 0s 34ms/step - loss: 0.0087 - mean_squared_error: 0.0087 - val_loss: 0.0082 - val_mean_squared_error: 0.0082\n",
            "Epoch 236/250\n",
            "3/3 [==============================] - 0s 34ms/step - loss: 0.0104 - mean_squared_error: 0.0104 - val_loss: 0.0080 - val_mean_squared_error: 0.0080\n",
            "Epoch 237/250\n",
            "3/3 [==============================] - 0s 34ms/step - loss: 0.0093 - mean_squared_error: 0.0093 - val_loss: 0.0083 - val_mean_squared_error: 0.0083\n",
            "Epoch 238/250\n",
            "3/3 [==============================] - 0s 32ms/step - loss: 0.0079 - mean_squared_error: 0.0079 - val_loss: 0.0073 - val_mean_squared_error: 0.0073\n",
            "Epoch 239/250\n",
            "3/3 [==============================] - 0s 32ms/step - loss: 0.0076 - mean_squared_error: 0.0076 - val_loss: 0.0069 - val_mean_squared_error: 0.0069\n",
            "Epoch 240/250\n",
            "3/3 [==============================] - 0s 34ms/step - loss: 0.0092 - mean_squared_error: 0.0092 - val_loss: 0.0070 - val_mean_squared_error: 0.0070\n",
            "Epoch 241/250\n",
            "3/3 [==============================] - 0s 37ms/step - loss: 0.0075 - mean_squared_error: 0.0075 - val_loss: 0.0067 - val_mean_squared_error: 0.0067\n",
            "Epoch 242/250\n",
            "3/3 [==============================] - 0s 34ms/step - loss: 0.0090 - mean_squared_error: 0.0090 - val_loss: 0.0065 - val_mean_squared_error: 0.0065\n",
            "Epoch 243/250\n",
            "3/3 [==============================] - 0s 32ms/step - loss: 0.0080 - mean_squared_error: 0.0080 - val_loss: 0.0072 - val_mean_squared_error: 0.0072\n",
            "Epoch 244/250\n",
            "3/3 [==============================] - 0s 32ms/step - loss: 0.0088 - mean_squared_error: 0.0088 - val_loss: 0.0065 - val_mean_squared_error: 0.0065\n",
            "Epoch 245/250\n",
            "3/3 [==============================] - 0s 32ms/step - loss: 0.0091 - mean_squared_error: 0.0091 - val_loss: 0.0065 - val_mean_squared_error: 0.0065\n",
            "Epoch 246/250\n",
            "3/3 [==============================] - 0s 40ms/step - loss: 0.0079 - mean_squared_error: 0.0079 - val_loss: 0.0065 - val_mean_squared_error: 0.0065\n",
            "Epoch 247/250\n",
            "3/3 [==============================] - 0s 32ms/step - loss: 0.0073 - mean_squared_error: 0.0073 - val_loss: 0.0061 - val_mean_squared_error: 0.0061\n",
            "Epoch 248/250\n",
            "3/3 [==============================] - 0s 34ms/step - loss: 0.0075 - mean_squared_error: 0.0075 - val_loss: 0.0060 - val_mean_squared_error: 0.0060\n",
            "Epoch 249/250\n",
            "3/3 [==============================] - 0s 40ms/step - loss: 0.0066 - mean_squared_error: 0.0066 - val_loss: 0.0057 - val_mean_squared_error: 0.0057\n",
            "Epoch 250/250\n",
            "3/3 [==============================] - 0s 36ms/step - loss: 0.0077 - mean_squared_error: 0.0077 - val_loss: 0.0056 - val_mean_squared_error: 0.0056\n"
          ]
        }
      ]
    },
    {
      "cell_type": "code",
      "metadata": {
        "id": "g0XQUe0RSbon",
        "colab": {
          "base_uri": "https://localhost:8080/",
          "height": 280
        },
        "outputId": "7a8bf290-f087-448b-a106-73f441e1c5de"
      },
      "source": [
        "loss = history.history['loss']\n",
        "val_loss = history.history['val_loss']\n",
        "epochs = range(len(loss))\n",
        "plt.figure()\n",
        "plt.plot(epochs, loss, 'b', label='Training loss')\n",
        "plt.plot(epochs, val_loss, 'r', label='Validation loss')\n",
        "plt.title(\"Training and Validation Loss\")\n",
        "plt.legend()\n",
        "plt.show()"
      ],
      "execution_count": null,
      "outputs": [
        {
          "output_type": "display_data",
          "data": {
            "image/png": "[encoded data removed]",
            "text/plain": [
              "<Figure size 432x288 with 1 Axes>"
            ]
          },
          "metadata": {
            "needs_background": "light"
          }
        }
      ]
    },
    {
      "cell_type": "markdown",
      "metadata": {
        "id": "GoyrlNK0Q_dJ"
      },
      "source": [
        "##MAKING PREDICTIONS"
      ]
    },
    {
      "cell_type": "code",
      "metadata": {
        "id": "lervxdm5crv9",
        "colab": {
          "base_uri": "https://localhost:8080/"
        },
        "outputId": "1f9601a6-f935-4c1b-92cb-486ce1bca435"
      },
      "source": [
        "y_pred = model.predict(x_test) \n",
        "\n",
        "y_pred[-10:-1]"
      ],
      "execution_count": null,
      "outputs": [
        {
          "output_type": "execute_result",
          "data": {
            "text/plain": [
              "array([[0.7126994 ],\n",
              "       [0.18533713],\n",
              "       [0.21398255],\n",
              "       [0.77518183],\n",
              "       [0.28533232],\n",
              "       [0.20289502],\n",
              "       [0.79400635],\n",
              "       [0.8373089 ],\n",
              "       [0.31233853]], dtype=float32)"
            ]
          },
          "metadata": {},
          "execution_count": 35
        }
      ]
    },
    {
      "cell_type": "code",
      "source": [
        "y_test[-10:-1]"
      ],
      "metadata": {
        "id": "dXoNNO0vRB_-",
        "colab": {
          "base_uri": "https://localhost:8080/"
        },
        "outputId": "03631010-5f0a-450e-f7b1-c93bdffdfafe"
      },
      "execution_count": null,
      "outputs": [
        {
          "output_type": "execute_result",
          "data": {
            "text/plain": [
              "array([[0.65645798],\n",
              "       [0.03012274],\n",
              "       [0.17703232],\n",
              "       [0.75761135],\n",
              "       [0.28940553],\n",
              "       [0.12314866],\n",
              "       [0.80909825],\n",
              "       [1.01208014],\n",
              "       [0.33605332]])"
            ]
          },
          "metadata": {},
          "execution_count": 36
        }
      ]
    },
    {
      "cell_type": "code",
      "metadata": {
        "id": "84SUbxJV544A",
        "colab": {
          "base_uri": "https://localhost:8080/"
        },
        "outputId": "930f96cc-0b6e-4c11-f53f-a7efa4e8b8a2"
      },
      "source": [
        "error_arr=y_test-y_pred\n",
        "error_arr[-10:-1]"
      ],
      "execution_count": null,
      "outputs": [
        {
          "output_type": "execute_result",
          "data": {
            "text/plain": [
              "array([[-0.05624143],\n",
              "       [-0.15521439],\n",
              "       [-0.03695024],\n",
              "       [-0.01757048],\n",
              "       [ 0.00407321],\n",
              "       [-0.07974635],\n",
              "       [ 0.0150919 ],\n",
              "       [ 0.17477125],\n",
              "       [ 0.02371479]])"
            ]
          },
          "metadata": {},
          "execution_count": 37
        }
      ]
    },
    {
      "cell_type": "code",
      "source": [
        "y_pred=scaler.inverse_transform(y_pred)\n",
        "y_test=scaler.inverse_transform(y_test)"
      ],
      "metadata": {
        "id": "eaFf-AzsRI9X"
      },
      "execution_count": null,
      "outputs": []
    },
    {
      "cell_type": "code",
      "source": [
        "y_pred\n"
      ],
      "metadata": {
        "colab": {
          "base_uri": "https://localhost:8080/"
        },
        "id": "Y2x0YVJbh0E4",
        "outputId": "faad8b46-051b-4e45-f286-f16e7fa09480"
      },
      "execution_count": null,
      "outputs": [
        {
          "output_type": "execute_result",
          "data": {
            "text/plain": [
              "array([[39843.406],\n",
              "       [57159.363],\n",
              "       [30933.11 ],\n",
              "       [44359.84 ],\n",
              "       [44645.36 ],\n",
              "       [32772.38 ],\n",
              "       [42440.86 ],\n",
              "       [54731.62 ],\n",
              "       [56203.52 ],\n",
              "       [43651.66 ],\n",
              "       [33528.203],\n",
              "       [50381.523],\n",
              "       [58496.25 ],\n",
              "       [36994.637],\n",
              "       [32763.094],\n",
              "       [47782.04 ],\n",
              "       [35196.45 ],\n",
              "       [26759.541],\n",
              "       [36919.242],\n",
              "       [56937.84 ],\n",
              "       [34613.88 ],\n",
              "       [57103.816],\n",
              "       [36508.637],\n",
              "       [26566.16 ],\n",
              "       [58530.637],\n",
              "       [43321.49 ],\n",
              "       [57473.21 ],\n",
              "       [58692.4  ],\n",
              "       [57606.16 ],\n",
              "       [58633.63 ],\n",
              "       [48464.477],\n",
              "       [36788.055],\n",
              "       [50844.65 ],\n",
              "       [56993.613],\n",
              "       [30921.592],\n",
              "       [47600.566],\n",
              "       [31314.75 ],\n",
              "       [49411.75 ],\n",
              "       [32029.172],\n",
              "       [59041.816],\n",
              "       [47247.562],\n",
              "       [56176.863],\n",
              "       [33804.047],\n",
              "       [46916.895],\n",
              "       [37314.145],\n",
              "       [27780.342],\n",
              "       [50112.88 ],\n",
              "       [27953.518],\n",
              "       [50663.945],\n",
              "       [45432.43 ],\n",
              "       [34342.67 ],\n",
              "       [58203.46 ],\n",
              "       [37452.484],\n",
              "       [26774.295],\n",
              "       [47707.805],\n",
              "       [51534.24 ],\n",
              "       [32402.299],\n",
              "       [49112.19 ],\n",
              "       [57811.5  ],\n",
              "       [31794.805],\n",
              "       [32208.07 ],\n",
              "       [31628.066],\n",
              "       [54565.89 ],\n",
              "       [50540.58 ],\n",
              "       [52821.008],\n",
              "       [26846.084],\n",
              "       [28257.   ],\n",
              "       [55898.54 ],\n",
              "       [31771.29 ],\n",
              "       [27710.889],\n",
              "       [56825.734],\n",
              "       [58958.574],\n",
              "       [33101.465],\n",
              "       [57451.55 ]], dtype=float32)"
            ]
          },
          "metadata": {},
          "execution_count": 41
        }
      ]
    },
    {
      "cell_type": "code",
      "metadata": {
        "id": "WLU_CXMwdC2n",
        "colab": {
          "base_uri": "https://localhost:8080/",
          "height": 349
        },
        "outputId": "02d1eff3-d6e0-442e-a6c4-1a4389605e57"
      },
      "source": [
        "plt.figure(figsize=(14,5))\n",
        "plt.plot(y_test, color = 'red', label = 'Real Bitcoin Price')\n",
        "plt.plot(y_pred, color = 'green', label = 'Predicted Bitcoin Price')\n",
        "plt.title('Bitcoin Price Prediction using RNN-LSTM')\n",
        "plt.xlabel('Time')\n",
        "plt.ylabel('Price')\n",
        "plt.legend()\n",
        "plt.show()"
      ],
      "execution_count": null,
      "outputs": [
        {
          "output_type": "display_data",
          "data": {
            "image/png": "[encoded data removed]",
            "text/plain": [
              "<Figure size 1008x360 with 1 Axes>"
            ]
          },
          "metadata": {
            "needs_background": "light"
          }
        }
      ]
    },
    {
      "cell_type": "markdown",
      "metadata": {
        "id": "s0lR-DTLRXDj"
      },
      "source": [
        "##FINDING ACCURACY"
      ]
    },
    {
      "cell_type": "code",
      "metadata": {
        "id": "BFHf7upgnCbk",
        "colab": {
          "base_uri": "https://localhost:8080/"
        },
        "outputId": "11636c9c-08d4-4ad7-a12a-a4f1952f6823"
      },
      "source": [
        "from sklearn.metrics import mean_absolute_percentage_error\n",
        "mean_absolute_percentage_error(y_test, y_pred)\n"
      ],
      "execution_count": null,
      "outputs": [
        {
          "output_type": "execute_result",
          "data": {
            "text/plain": [
              "0.06957143057601461"
            ]
          },
          "metadata": {},
          "execution_count": 40
        }
      ]
    }
  ]
}